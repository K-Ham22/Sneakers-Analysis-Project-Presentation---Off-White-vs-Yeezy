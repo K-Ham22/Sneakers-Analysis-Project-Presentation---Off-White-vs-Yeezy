{
 "cells": [
  {
   "cell_type": "markdown",
   "id": "c16311b4-9b89-424a-a375-7c6f8b8c6317",
   "metadata": {},
   "source": [
    "Kaili Hamilton\n",
    "# **CAPSTONE 2 | MACHINE LEARNING PROJECT**"
   ]
  },
  {
   "cell_type": "markdown",
   "id": "e3c51ad1-d829-4675-9baf-fb58ecd76539",
   "metadata": {},
   "source": [
    "### **Question of Interest:**\n",
    "Can I predict when to resale a sneaker in order to maximize the profit (sale price - retail price)?"
   ]
  },
  {
   "cell_type": "code",
   "execution_count": 69,
   "id": "64f696ed-7520-4cd5-bca2-b594455796e5",
   "metadata": {},
   "outputs": [],
   "source": [
    "import pandas as pd\n",
    "import statsmodels.api as sm\n",
    "import seaborn as sns\n",
    "import numpy as np\n",
    "import matplotlib.pyplot as plt"
   ]
  },
  {
   "cell_type": "code",
   "execution_count": 70,
   "id": "2c101591-837f-4ef3-a4fa-4d6ee8d829c3",
   "metadata": {},
   "outputs": [
    {
     "data": {
      "text/html": [
       "<div>\n",
       "<style scoped>\n",
       "    .dataframe tbody tr th:only-of-type {\n",
       "        vertical-align: middle;\n",
       "    }\n",
       "\n",
       "    .dataframe tbody tr th {\n",
       "        vertical-align: top;\n",
       "    }\n",
       "\n",
       "    .dataframe thead th {\n",
       "        text-align: right;\n",
       "    }\n",
       "</style>\n",
       "<table border=\"1\" class=\"dataframe\">\n",
       "  <thead>\n",
       "    <tr style=\"text-align: right;\">\n",
       "      <th></th>\n",
       "      <th>Order Date</th>\n",
       "      <th>Brand</th>\n",
       "      <th>Sneaker Name</th>\n",
       "      <th>Sale Price</th>\n",
       "      <th>Retail Price</th>\n",
       "      <th>Release Date</th>\n",
       "      <th>Shoe Size</th>\n",
       "      <th>Buyer Region</th>\n",
       "      <th>Profit Margin</th>\n",
       "      <th>Colorway</th>\n",
       "      <th>Silhouette</th>\n",
       "      <th>Elapsed Time Days</th>\n",
       "      <th>Elapsed Time Weeks</th>\n",
       "      <th>Elapsed Time Years</th>\n",
       "      <th>Release Date Year</th>\n",
       "      <th>Release Date Month</th>\n",
       "      <th>Release Date Day</th>\n",
       "      <th>Order Date Year</th>\n",
       "      <th>Order Date Month</th>\n",
       "      <th>Order Date Day</th>\n",
       "    </tr>\n",
       "  </thead>\n",
       "  <tbody>\n",
       "    <tr>\n",
       "      <th>0</th>\n",
       "      <td>2017-09-01</td>\n",
       "      <td>Yeezy</td>\n",
       "      <td>Adidas-Yeezy-Boost-350-Low-V2-Beluga</td>\n",
       "      <td>1097</td>\n",
       "      <td>220</td>\n",
       "      <td>2016-09-24</td>\n",
       "      <td>11.0</td>\n",
       "      <td>California</td>\n",
       "      <td>877</td>\n",
       "      <td>Beluga</td>\n",
       "      <td>V2</td>\n",
       "      <td>342</td>\n",
       "      <td>48.7</td>\n",
       "      <td>0.94</td>\n",
       "      <td>2016</td>\n",
       "      <td>9</td>\n",
       "      <td>24</td>\n",
       "      <td>2017</td>\n",
       "      <td>9</td>\n",
       "      <td>1</td>\n",
       "    </tr>\n",
       "    <tr>\n",
       "      <th>1</th>\n",
       "      <td>2017-09-01</td>\n",
       "      <td>Yeezy</td>\n",
       "      <td>Adidas-Yeezy-Boost-350-V2-Core-Black-Copper</td>\n",
       "      <td>685</td>\n",
       "      <td>220</td>\n",
       "      <td>2016-11-23</td>\n",
       "      <td>11.0</td>\n",
       "      <td>California</td>\n",
       "      <td>465</td>\n",
       "      <td>Core-Black-Copper</td>\n",
       "      <td>V2</td>\n",
       "      <td>282</td>\n",
       "      <td>40.2</td>\n",
       "      <td>0.77</td>\n",
       "      <td>2016</td>\n",
       "      <td>11</td>\n",
       "      <td>23</td>\n",
       "      <td>2017</td>\n",
       "      <td>9</td>\n",
       "      <td>1</td>\n",
       "    </tr>\n",
       "    <tr>\n",
       "      <th>2</th>\n",
       "      <td>2017-09-01</td>\n",
       "      <td>Yeezy</td>\n",
       "      <td>Adidas-Yeezy-Boost-350-V2-Core-Black-Green</td>\n",
       "      <td>690</td>\n",
       "      <td>220</td>\n",
       "      <td>2016-11-23</td>\n",
       "      <td>11.0</td>\n",
       "      <td>California</td>\n",
       "      <td>470</td>\n",
       "      <td>Core-Black-Green</td>\n",
       "      <td>V2</td>\n",
       "      <td>282</td>\n",
       "      <td>40.2</td>\n",
       "      <td>0.77</td>\n",
       "      <td>2016</td>\n",
       "      <td>11</td>\n",
       "      <td>23</td>\n",
       "      <td>2017</td>\n",
       "      <td>9</td>\n",
       "      <td>1</td>\n",
       "    </tr>\n",
       "    <tr>\n",
       "      <th>3</th>\n",
       "      <td>2017-09-01</td>\n",
       "      <td>Yeezy</td>\n",
       "      <td>Adidas-Yeezy-Boost-350-V2-Core-Black-Red</td>\n",
       "      <td>1075</td>\n",
       "      <td>220</td>\n",
       "      <td>2016-11-23</td>\n",
       "      <td>11.5</td>\n",
       "      <td>Kentucky</td>\n",
       "      <td>855</td>\n",
       "      <td>Core-Black-Red</td>\n",
       "      <td>V2</td>\n",
       "      <td>282</td>\n",
       "      <td>40.2</td>\n",
       "      <td>0.77</td>\n",
       "      <td>2016</td>\n",
       "      <td>11</td>\n",
       "      <td>23</td>\n",
       "      <td>2017</td>\n",
       "      <td>9</td>\n",
       "      <td>1</td>\n",
       "    </tr>\n",
       "    <tr>\n",
       "      <th>4</th>\n",
       "      <td>2017-09-01</td>\n",
       "      <td>Yeezy</td>\n",
       "      <td>Adidas-Yeezy-Boost-350-V2-Core-Black-Red-2017</td>\n",
       "      <td>828</td>\n",
       "      <td>220</td>\n",
       "      <td>2017-02-11</td>\n",
       "      <td>11.0</td>\n",
       "      <td>Rhode Island</td>\n",
       "      <td>608</td>\n",
       "      <td>Core-Black-Red-2017</td>\n",
       "      <td>V2</td>\n",
       "      <td>202</td>\n",
       "      <td>28.8</td>\n",
       "      <td>0.55</td>\n",
       "      <td>2017</td>\n",
       "      <td>2</td>\n",
       "      <td>11</td>\n",
       "      <td>2017</td>\n",
       "      <td>9</td>\n",
       "      <td>1</td>\n",
       "    </tr>\n",
       "  </tbody>\n",
       "</table>\n",
       "</div>"
      ],
      "text/plain": [
       "   Order Date   Brand                                   Sneaker Name  \\\n",
       "0  2017-09-01   Yeezy           Adidas-Yeezy-Boost-350-Low-V2-Beluga   \n",
       "1  2017-09-01   Yeezy    Adidas-Yeezy-Boost-350-V2-Core-Black-Copper   \n",
       "2  2017-09-01   Yeezy     Adidas-Yeezy-Boost-350-V2-Core-Black-Green   \n",
       "3  2017-09-01   Yeezy       Adidas-Yeezy-Boost-350-V2-Core-Black-Red   \n",
       "4  2017-09-01   Yeezy  Adidas-Yeezy-Boost-350-V2-Core-Black-Red-2017   \n",
       "\n",
       "   Sale Price  Retail Price Release Date  Shoe Size  Buyer Region  \\\n",
       "0        1097           220   2016-09-24       11.0    California   \n",
       "1         685           220   2016-11-23       11.0    California   \n",
       "2         690           220   2016-11-23       11.0    California   \n",
       "3        1075           220   2016-11-23       11.5      Kentucky   \n",
       "4         828           220   2017-02-11       11.0  Rhode Island   \n",
       "\n",
       "   Profit Margin             Colorway Silhouette  Elapsed Time Days  \\\n",
       "0            877               Beluga         V2                342   \n",
       "1            465    Core-Black-Copper         V2                282   \n",
       "2            470     Core-Black-Green         V2                282   \n",
       "3            855       Core-Black-Red         V2                282   \n",
       "4            608  Core-Black-Red-2017         V2                202   \n",
       "\n",
       "   Elapsed Time Weeks  Elapsed Time Years  Release Date Year  \\\n",
       "0                48.7                0.94               2016   \n",
       "1                40.2                0.77               2016   \n",
       "2                40.2                0.77               2016   \n",
       "3                40.2                0.77               2016   \n",
       "4                28.8                0.55               2017   \n",
       "\n",
       "   Release Date Month  Release Date Day  Order Date Year  Order Date Month  \\\n",
       "0                   9                24             2017                 9   \n",
       "1                  11                23             2017                 9   \n",
       "2                  11                23             2017                 9   \n",
       "3                  11                23             2017                 9   \n",
       "4                   2                11             2017                 9   \n",
       "\n",
       "   Order Date Day  \n",
       "0               1  \n",
       "1               1  \n",
       "2               1  \n",
       "3               1  \n",
       "4               1  "
      ]
     },
     "execution_count": 70,
     "metadata": {},
     "output_type": "execute_result"
    }
   ],
   "source": [
    "df = pd.read_csv('StockX-Data-Contest-2019-3-Clean-Data.csv')\n",
    "df.head()"
   ]
  },
  {
   "cell_type": "markdown",
   "id": "6898d72c-99bc-4028-941f-766528f00b7c",
   "metadata": {},
   "source": [
    "### **CLEAN THE DATA**"
   ]
  },
  {
   "cell_type": "code",
   "execution_count": 71,
   "id": "f677fe94-7d9d-49cd-87f2-b464818dadd6",
   "metadata": {
    "tags": []
   },
   "outputs": [
    {
     "data": {
      "text/plain": [
       "Order Date            0\n",
       "Brand                 0\n",
       "Sneaker Name          0\n",
       "Sale Price            0\n",
       "Retail Price          0\n",
       "Release Date          0\n",
       "Shoe Size             0\n",
       "Buyer Region          0\n",
       "Profit Margin         0\n",
       "Colorway              0\n",
       "Silhouette            0\n",
       "Elapsed Time Days     0\n",
       "Elapsed Time Weeks    0\n",
       "Elapsed Time Years    0\n",
       "Release Date Year     0\n",
       "Release Date Month    0\n",
       "Release Date Day      0\n",
       "Order Date Year       0\n",
       "Order Date Month      0\n",
       "Order Date Day        0\n",
       "dtype: int64"
      ]
     },
     "execution_count": 71,
     "metadata": {},
     "output_type": "execute_result"
    }
   ],
   "source": [
    "df.isna().sum() #no nulls"
   ]
  },
  {
   "cell_type": "code",
   "execution_count": 72,
   "id": "b027c41c-0b58-4e05-8125-e71a59c942e5",
   "metadata": {
    "tags": []
   },
   "outputs": [
    {
     "data": {
      "text/plain": [
       "Order Date             object\n",
       "Brand                  object\n",
       "Sneaker Name           object\n",
       "Sale Price              int64\n",
       "Retail Price            int64\n",
       "Release Date           object\n",
       "Shoe Size             float64\n",
       "Buyer Region           object\n",
       "Profit Margin           int64\n",
       "Colorway               object\n",
       "Silhouette             object\n",
       "Elapsed Time Days       int64\n",
       "Elapsed Time Weeks    float64\n",
       "Elapsed Time Years    float64\n",
       "Release Date Year       int64\n",
       "Release Date Month      int64\n",
       "Release Date Day        int64\n",
       "Order Date Year         int64\n",
       "Order Date Month        int64\n",
       "Order Date Day          int64\n",
       "dtype: object"
      ]
     },
     "execution_count": 72,
     "metadata": {},
     "output_type": "execute_result"
    }
   ],
   "source": [
    "df.dtypes #need to take care of the string data types"
   ]
  },
  {
   "cell_type": "markdown",
   "id": "2f7e6eac-1726-4265-b834-4b072255e735",
   "metadata": {},
   "source": [
    "## Note on 3/21\n",
    "- Instead of dropping the order date and release date I am going to convert them to date time objects and see what that does to the model\n",
    "- model didn't run, undoing the conversion"
   ]
  },
  {
   "cell_type": "raw",
   "id": "7e49ae2d-68c0-42f3-80d7-e37a7fa7d246",
   "metadata": {
    "tags": []
   },
   "source": [
    "df['Order Date'] = pd.to_datetime(df['Order Date'])\n",
    "df['Release Date'] = pd.to_datetime(df['Release Date'])"
   ]
  },
  {
   "cell_type": "code",
   "execution_count": 73,
   "id": "e3d727a8-e979-48e1-90aa-72150ec7882f",
   "metadata": {
    "tags": []
   },
   "outputs": [
    {
     "data": {
      "text/plain": [
       "Order Date             object\n",
       "Brand                  object\n",
       "Sneaker Name           object\n",
       "Sale Price              int64\n",
       "Retail Price            int64\n",
       "Release Date           object\n",
       "Shoe Size             float64\n",
       "Buyer Region           object\n",
       "Profit Margin           int64\n",
       "Colorway               object\n",
       "Silhouette             object\n",
       "Elapsed Time Days       int64\n",
       "Elapsed Time Weeks    float64\n",
       "Elapsed Time Years    float64\n",
       "Release Date Year       int64\n",
       "Release Date Month      int64\n",
       "Release Date Day        int64\n",
       "Order Date Year         int64\n",
       "Order Date Month        int64\n",
       "Order Date Day          int64\n",
       "dtype: object"
      ]
     },
     "execution_count": 73,
     "metadata": {},
     "output_type": "execute_result"
    }
   ],
   "source": [
    "df.dtypes"
   ]
  },
  {
   "cell_type": "code",
   "execution_count": 74,
   "id": "f3ae9c5b-31d0-4339-8ccc-5cc1bdd80397",
   "metadata": {
    "tags": []
   },
   "outputs": [
    {
     "data": {
      "text/html": [
       "<div>\n",
       "<style scoped>\n",
       "    .dataframe tbody tr th:only-of-type {\n",
       "        vertical-align: middle;\n",
       "    }\n",
       "\n",
       "    .dataframe tbody tr th {\n",
       "        vertical-align: top;\n",
       "    }\n",
       "\n",
       "    .dataframe thead th {\n",
       "        text-align: right;\n",
       "    }\n",
       "</style>\n",
       "<table border=\"1\" class=\"dataframe\">\n",
       "  <thead>\n",
       "    <tr style=\"text-align: right;\">\n",
       "      <th></th>\n",
       "      <th>Order Date</th>\n",
       "      <th>Brand</th>\n",
       "      <th>Sneaker Name</th>\n",
       "      <th>Sale Price</th>\n",
       "      <th>Retail Price</th>\n",
       "      <th>Release Date</th>\n",
       "      <th>Shoe Size</th>\n",
       "      <th>Buyer Region</th>\n",
       "      <th>Profit Margin</th>\n",
       "      <th>Colorway</th>\n",
       "      <th>Silhouette</th>\n",
       "      <th>Elapsed Time Days</th>\n",
       "      <th>Elapsed Time Weeks</th>\n",
       "      <th>Elapsed Time Years</th>\n",
       "      <th>Release Date Year</th>\n",
       "      <th>Release Date Month</th>\n",
       "      <th>Release Date Day</th>\n",
       "      <th>Order Date Year</th>\n",
       "      <th>Order Date Month</th>\n",
       "      <th>Order Date Day</th>\n",
       "    </tr>\n",
       "  </thead>\n",
       "  <tbody>\n",
       "    <tr>\n",
       "      <th>0</th>\n",
       "      <td>2017-09-01</td>\n",
       "      <td>Yeezy</td>\n",
       "      <td>Adidas-Yeezy-Boost-350-Low-V2-Beluga</td>\n",
       "      <td>1097</td>\n",
       "      <td>220</td>\n",
       "      <td>2016-09-24</td>\n",
       "      <td>11.0</td>\n",
       "      <td>California</td>\n",
       "      <td>877</td>\n",
       "      <td>Beluga</td>\n",
       "      <td>V2</td>\n",
       "      <td>342</td>\n",
       "      <td>48.7</td>\n",
       "      <td>0.94</td>\n",
       "      <td>2016</td>\n",
       "      <td>9</td>\n",
       "      <td>24</td>\n",
       "      <td>2017</td>\n",
       "      <td>9</td>\n",
       "      <td>1</td>\n",
       "    </tr>\n",
       "    <tr>\n",
       "      <th>1</th>\n",
       "      <td>2017-09-01</td>\n",
       "      <td>Yeezy</td>\n",
       "      <td>Adidas-Yeezy-Boost-350-V2-Core-Black-Copper</td>\n",
       "      <td>685</td>\n",
       "      <td>220</td>\n",
       "      <td>2016-11-23</td>\n",
       "      <td>11.0</td>\n",
       "      <td>California</td>\n",
       "      <td>465</td>\n",
       "      <td>Core-Black-Copper</td>\n",
       "      <td>V2</td>\n",
       "      <td>282</td>\n",
       "      <td>40.2</td>\n",
       "      <td>0.77</td>\n",
       "      <td>2016</td>\n",
       "      <td>11</td>\n",
       "      <td>23</td>\n",
       "      <td>2017</td>\n",
       "      <td>9</td>\n",
       "      <td>1</td>\n",
       "    </tr>\n",
       "    <tr>\n",
       "      <th>2</th>\n",
       "      <td>2017-09-01</td>\n",
       "      <td>Yeezy</td>\n",
       "      <td>Adidas-Yeezy-Boost-350-V2-Core-Black-Green</td>\n",
       "      <td>690</td>\n",
       "      <td>220</td>\n",
       "      <td>2016-11-23</td>\n",
       "      <td>11.0</td>\n",
       "      <td>California</td>\n",
       "      <td>470</td>\n",
       "      <td>Core-Black-Green</td>\n",
       "      <td>V2</td>\n",
       "      <td>282</td>\n",
       "      <td>40.2</td>\n",
       "      <td>0.77</td>\n",
       "      <td>2016</td>\n",
       "      <td>11</td>\n",
       "      <td>23</td>\n",
       "      <td>2017</td>\n",
       "      <td>9</td>\n",
       "      <td>1</td>\n",
       "    </tr>\n",
       "    <tr>\n",
       "      <th>3</th>\n",
       "      <td>2017-09-01</td>\n",
       "      <td>Yeezy</td>\n",
       "      <td>Adidas-Yeezy-Boost-350-V2-Core-Black-Red</td>\n",
       "      <td>1075</td>\n",
       "      <td>220</td>\n",
       "      <td>2016-11-23</td>\n",
       "      <td>11.5</td>\n",
       "      <td>Kentucky</td>\n",
       "      <td>855</td>\n",
       "      <td>Core-Black-Red</td>\n",
       "      <td>V2</td>\n",
       "      <td>282</td>\n",
       "      <td>40.2</td>\n",
       "      <td>0.77</td>\n",
       "      <td>2016</td>\n",
       "      <td>11</td>\n",
       "      <td>23</td>\n",
       "      <td>2017</td>\n",
       "      <td>9</td>\n",
       "      <td>1</td>\n",
       "    </tr>\n",
       "    <tr>\n",
       "      <th>4</th>\n",
       "      <td>2017-09-01</td>\n",
       "      <td>Yeezy</td>\n",
       "      <td>Adidas-Yeezy-Boost-350-V2-Core-Black-Red-2017</td>\n",
       "      <td>828</td>\n",
       "      <td>220</td>\n",
       "      <td>2017-02-11</td>\n",
       "      <td>11.0</td>\n",
       "      <td>Rhode Island</td>\n",
       "      <td>608</td>\n",
       "      <td>Core-Black-Red-2017</td>\n",
       "      <td>V2</td>\n",
       "      <td>202</td>\n",
       "      <td>28.8</td>\n",
       "      <td>0.55</td>\n",
       "      <td>2017</td>\n",
       "      <td>2</td>\n",
       "      <td>11</td>\n",
       "      <td>2017</td>\n",
       "      <td>9</td>\n",
       "      <td>1</td>\n",
       "    </tr>\n",
       "  </tbody>\n",
       "</table>\n",
       "</div>"
      ],
      "text/plain": [
       "   Order Date   Brand                                   Sneaker Name  \\\n",
       "0  2017-09-01   Yeezy           Adidas-Yeezy-Boost-350-Low-V2-Beluga   \n",
       "1  2017-09-01   Yeezy    Adidas-Yeezy-Boost-350-V2-Core-Black-Copper   \n",
       "2  2017-09-01   Yeezy     Adidas-Yeezy-Boost-350-V2-Core-Black-Green   \n",
       "3  2017-09-01   Yeezy       Adidas-Yeezy-Boost-350-V2-Core-Black-Red   \n",
       "4  2017-09-01   Yeezy  Adidas-Yeezy-Boost-350-V2-Core-Black-Red-2017   \n",
       "\n",
       "   Sale Price  Retail Price Release Date  Shoe Size  Buyer Region  \\\n",
       "0        1097           220   2016-09-24       11.0    California   \n",
       "1         685           220   2016-11-23       11.0    California   \n",
       "2         690           220   2016-11-23       11.0    California   \n",
       "3        1075           220   2016-11-23       11.5      Kentucky   \n",
       "4         828           220   2017-02-11       11.0  Rhode Island   \n",
       "\n",
       "   Profit Margin             Colorway Silhouette  Elapsed Time Days  \\\n",
       "0            877               Beluga         V2                342   \n",
       "1            465    Core-Black-Copper         V2                282   \n",
       "2            470     Core-Black-Green         V2                282   \n",
       "3            855       Core-Black-Red         V2                282   \n",
       "4            608  Core-Black-Red-2017         V2                202   \n",
       "\n",
       "   Elapsed Time Weeks  Elapsed Time Years  Release Date Year  \\\n",
       "0                48.7                0.94               2016   \n",
       "1                40.2                0.77               2016   \n",
       "2                40.2                0.77               2016   \n",
       "3                40.2                0.77               2016   \n",
       "4                28.8                0.55               2017   \n",
       "\n",
       "   Release Date Month  Release Date Day  Order Date Year  Order Date Month  \\\n",
       "0                   9                24             2017                 9   \n",
       "1                  11                23             2017                 9   \n",
       "2                  11                23             2017                 9   \n",
       "3                  11                23             2017                 9   \n",
       "4                   2                11             2017                 9   \n",
       "\n",
       "   Order Date Day  \n",
       "0               1  \n",
       "1               1  \n",
       "2               1  \n",
       "3               1  \n",
       "4               1  "
      ]
     },
     "execution_count": 74,
     "metadata": {},
     "output_type": "execute_result"
    }
   ],
   "source": [
    "df.head()"
   ]
  },
  {
   "cell_type": "markdown",
   "id": "03778c39-f361-452e-957d-b336ddd9fbf9",
   "metadata": {},
   "source": [
    "#### Dropping Columns\n",
    "- do I want to generzlize this beyond Yeezy and Off-White? Or do I want to keep to just these two designer brands?\n",
    "- drop the strings/pandas objects columns\n",
    "- keep `brand` but need to change it to 0=Yeezy and 1=Off-White\n",
    "- is it necessary to keep `Profit Margin` since we have both `sale price` and `retail price`?"
   ]
  },
  {
   "cell_type": "markdown",
   "id": "672fb367-9ffd-4e04-942d-15a1ee5ad803",
   "metadata": {},
   "source": [
    "3/21/23\n",
    "- only keeping Brand, Sale Price, Retail Price, Shoe Size, Profit Margin, Silhouette, "
   ]
  },
  {
   "cell_type": "code",
   "execution_count": 75,
   "id": "ab37be60-39fd-4b6b-a9a0-d46a4e1a70ee",
   "metadata": {},
   "outputs": [],
   "source": [
    "df = df.drop(columns=['Colorway', 'Sneaker Name', 'Buyer Region', 'Order Date', 'Release Date', 'Elapsed Time Weeks', 'Elapsed Time Years', 'Release Date Year', 'Release Date Month', 'Release Date Day', 'Order Date Year', 'Order Date Month', 'Order Date Day'], axis=1)"
   ]
  },
  {
   "cell_type": "code",
   "execution_count": 76,
   "id": "178b27b5-521d-4197-82ed-bf693e293e8b",
   "metadata": {},
   "outputs": [
    {
     "data": {
      "text/html": [
       "<div>\n",
       "<style scoped>\n",
       "    .dataframe tbody tr th:only-of-type {\n",
       "        vertical-align: middle;\n",
       "    }\n",
       "\n",
       "    .dataframe tbody tr th {\n",
       "        vertical-align: top;\n",
       "    }\n",
       "\n",
       "    .dataframe thead th {\n",
       "        text-align: right;\n",
       "    }\n",
       "</style>\n",
       "<table border=\"1\" class=\"dataframe\">\n",
       "  <thead>\n",
       "    <tr style=\"text-align: right;\">\n",
       "      <th></th>\n",
       "      <th>Brand</th>\n",
       "      <th>Sale Price</th>\n",
       "      <th>Retail Price</th>\n",
       "      <th>Shoe Size</th>\n",
       "      <th>Profit Margin</th>\n",
       "      <th>Silhouette</th>\n",
       "      <th>Elapsed Time Days</th>\n",
       "    </tr>\n",
       "  </thead>\n",
       "  <tbody>\n",
       "    <tr>\n",
       "      <th>0</th>\n",
       "      <td>Yeezy</td>\n",
       "      <td>1097</td>\n",
       "      <td>220</td>\n",
       "      <td>11.0</td>\n",
       "      <td>877</td>\n",
       "      <td>V2</td>\n",
       "      <td>342</td>\n",
       "    </tr>\n",
       "    <tr>\n",
       "      <th>1</th>\n",
       "      <td>Yeezy</td>\n",
       "      <td>685</td>\n",
       "      <td>220</td>\n",
       "      <td>11.0</td>\n",
       "      <td>465</td>\n",
       "      <td>V2</td>\n",
       "      <td>282</td>\n",
       "    </tr>\n",
       "    <tr>\n",
       "      <th>2</th>\n",
       "      <td>Yeezy</td>\n",
       "      <td>690</td>\n",
       "      <td>220</td>\n",
       "      <td>11.0</td>\n",
       "      <td>470</td>\n",
       "      <td>V2</td>\n",
       "      <td>282</td>\n",
       "    </tr>\n",
       "    <tr>\n",
       "      <th>3</th>\n",
       "      <td>Yeezy</td>\n",
       "      <td>1075</td>\n",
       "      <td>220</td>\n",
       "      <td>11.5</td>\n",
       "      <td>855</td>\n",
       "      <td>V2</td>\n",
       "      <td>282</td>\n",
       "    </tr>\n",
       "    <tr>\n",
       "      <th>4</th>\n",
       "      <td>Yeezy</td>\n",
       "      <td>828</td>\n",
       "      <td>220</td>\n",
       "      <td>11.0</td>\n",
       "      <td>608</td>\n",
       "      <td>V2</td>\n",
       "      <td>202</td>\n",
       "    </tr>\n",
       "  </tbody>\n",
       "</table>\n",
       "</div>"
      ],
      "text/plain": [
       "    Brand  Sale Price  Retail Price  Shoe Size  Profit Margin Silhouette  \\\n",
       "0   Yeezy        1097           220       11.0            877         V2   \n",
       "1   Yeezy         685           220       11.0            465         V2   \n",
       "2   Yeezy         690           220       11.0            470         V2   \n",
       "3   Yeezy        1075           220       11.5            855         V2   \n",
       "4   Yeezy         828           220       11.0            608         V2   \n",
       "\n",
       "   Elapsed Time Days  \n",
       "0                342  \n",
       "1                282  \n",
       "2                282  \n",
       "3                282  \n",
       "4                202  "
      ]
     },
     "execution_count": 76,
     "metadata": {},
     "output_type": "execute_result"
    }
   ],
   "source": [
    "df.head()"
   ]
  },
  {
   "cell_type": "raw",
   "id": "e34e7dec-79ae-49c4-9ec4-27da872318c8",
   "metadata": {
    "tags": []
   },
   "source": [
    "#exploring the 'silhouette' column to see if I can do labelencoder with values\n",
    "df.value_counts(['Silhouette'])"
   ]
  },
  {
   "cell_type": "markdown",
   "id": "797bb158-571b-44cf-a4a3-8c81c9baa876",
   "metadata": {},
   "source": [
    "- There are 13 silhouettes. This seems reasonable to do label encoder on this 0-12 \n",
    "- How will I know which value is assigned to which silhouette? Will it go in the order of the output from df.value_counts()?"
   ]
  },
  {
   "cell_type": "code",
   "execution_count": 77,
   "id": "330c6ada-1089-44e9-ab7c-b294a9e3f2cb",
   "metadata": {
    "tags": []
   },
   "outputs": [
    {
     "data": {
      "text/html": [
       "<div>\n",
       "<style scoped>\n",
       "    .dataframe tbody tr th:only-of-type {\n",
       "        vertical-align: middle;\n",
       "    }\n",
       "\n",
       "    .dataframe tbody tr th {\n",
       "        vertical-align: top;\n",
       "    }\n",
       "\n",
       "    .dataframe thead th {\n",
       "        text-align: right;\n",
       "    }\n",
       "</style>\n",
       "<table border=\"1\" class=\"dataframe\">\n",
       "  <thead>\n",
       "    <tr style=\"text-align: right;\">\n",
       "      <th></th>\n",
       "      <th>Brand</th>\n",
       "      <th>Sale Price</th>\n",
       "      <th>Retail Price</th>\n",
       "      <th>Shoe Size</th>\n",
       "      <th>Profit Margin</th>\n",
       "      <th>Silhouette</th>\n",
       "      <th>Elapsed Time Days</th>\n",
       "    </tr>\n",
       "  </thead>\n",
       "  <tbody>\n",
       "    <tr>\n",
       "      <th>0</th>\n",
       "      <td>0</td>\n",
       "      <td>1097</td>\n",
       "      <td>220</td>\n",
       "      <td>11.0</td>\n",
       "      <td>877</td>\n",
       "      <td>V2</td>\n",
       "      <td>342</td>\n",
       "    </tr>\n",
       "    <tr>\n",
       "      <th>1</th>\n",
       "      <td>0</td>\n",
       "      <td>685</td>\n",
       "      <td>220</td>\n",
       "      <td>11.0</td>\n",
       "      <td>465</td>\n",
       "      <td>V2</td>\n",
       "      <td>282</td>\n",
       "    </tr>\n",
       "    <tr>\n",
       "      <th>2</th>\n",
       "      <td>0</td>\n",
       "      <td>690</td>\n",
       "      <td>220</td>\n",
       "      <td>11.0</td>\n",
       "      <td>470</td>\n",
       "      <td>V2</td>\n",
       "      <td>282</td>\n",
       "    </tr>\n",
       "    <tr>\n",
       "      <th>3</th>\n",
       "      <td>0</td>\n",
       "      <td>1075</td>\n",
       "      <td>220</td>\n",
       "      <td>11.5</td>\n",
       "      <td>855</td>\n",
       "      <td>V2</td>\n",
       "      <td>282</td>\n",
       "    </tr>\n",
       "    <tr>\n",
       "      <th>4</th>\n",
       "      <td>0</td>\n",
       "      <td>828</td>\n",
       "      <td>220</td>\n",
       "      <td>11.0</td>\n",
       "      <td>608</td>\n",
       "      <td>V2</td>\n",
       "      <td>202</td>\n",
       "    </tr>\n",
       "  </tbody>\n",
       "</table>\n",
       "</div>"
      ],
      "text/plain": [
       "   Brand  Sale Price  Retail Price  Shoe Size  Profit Margin Silhouette  \\\n",
       "0      0        1097           220       11.0            877         V2   \n",
       "1      0         685           220       11.0            465         V2   \n",
       "2      0         690           220       11.0            470         V2   \n",
       "3      0        1075           220       11.5            855         V2   \n",
       "4      0         828           220       11.0            608         V2   \n",
       "\n",
       "   Elapsed Time Days  \n",
       "0                342  \n",
       "1                282  \n",
       "2                282  \n",
       "3                282  \n",
       "4                202  "
      ]
     },
     "execution_count": 77,
     "metadata": {},
     "output_type": "execute_result"
    }
   ],
   "source": [
    "from sklearn.preprocessing import LabelEncoder\n",
    "le = LabelEncoder()\n",
    "df['Brand'] = le.fit_transform(df['Brand'])\n",
    "df.head()"
   ]
  },
  {
   "cell_type": "code",
   "execution_count": 78,
   "id": "38a15a65-50f7-4678-ba16-931c58842ade",
   "metadata": {},
   "outputs": [
    {
     "name": "stdout",
     "output_type": "stream",
     "text": [
      "[' Yeezy' 'Off-White'] [0 1]\n"
     ]
    }
   ],
   "source": [
    "print(le.classes_, le.transform(le.classes_))"
   ]
  },
  {
   "cell_type": "raw",
   "id": "c396bd48-1aa3-4ae3-ba04-95f48a2666f0",
   "metadata": {
    "tags": []
   },
   "source": [
    "le = LabelEncoder()\n",
    "df['Silhouette'] = le.fit_transform(df['Silhouette'])\n",
    "df.head()"
   ]
  },
  {
   "cell_type": "markdown",
   "id": "f17ab8af-dfd3-4482-9dd2-9409bc1bad7d",
   "metadata": {},
   "source": [
    "It looks like V2 = 12. I can recognize this from the colorway, but how I will I know about the others? I assume it's alphabetical. So V1 = 11"
   ]
  },
  {
   "cell_type": "raw",
   "id": "afafc708-616c-42b5-bc3e-f8abe0b94aff",
   "metadata": {
    "tags": []
   },
   "source": [
    "df['Silhouette'].isna().sum()"
   ]
  },
  {
   "cell_type": "code",
   "execution_count": 79,
   "id": "2e4af57a-f509-4e50-a70c-fd45654be4a6",
   "metadata": {},
   "outputs": [
    {
     "data": {
      "text/html": [
       "<div>\n",
       "<style scoped>\n",
       "    .dataframe tbody tr th:only-of-type {\n",
       "        vertical-align: middle;\n",
       "    }\n",
       "\n",
       "    .dataframe tbody tr th {\n",
       "        vertical-align: top;\n",
       "    }\n",
       "\n",
       "    .dataframe thead th {\n",
       "        text-align: right;\n",
       "    }\n",
       "</style>\n",
       "<table border=\"1\" class=\"dataframe\">\n",
       "  <thead>\n",
       "    <tr style=\"text-align: right;\">\n",
       "      <th></th>\n",
       "      <th>Brand</th>\n",
       "      <th>Sale Price</th>\n",
       "      <th>Retail Price</th>\n",
       "      <th>Shoe Size</th>\n",
       "      <th>Profit Margin</th>\n",
       "      <th>Silhouette</th>\n",
       "      <th>Elapsed Time Days</th>\n",
       "      <th>Price Ratio</th>\n",
       "    </tr>\n",
       "  </thead>\n",
       "  <tbody>\n",
       "    <tr>\n",
       "      <th>0</th>\n",
       "      <td>0</td>\n",
       "      <td>1097</td>\n",
       "      <td>220</td>\n",
       "      <td>11.0</td>\n",
       "      <td>877</td>\n",
       "      <td>V2</td>\n",
       "      <td>342</td>\n",
       "      <td>4.986364</td>\n",
       "    </tr>\n",
       "    <tr>\n",
       "      <th>1</th>\n",
       "      <td>0</td>\n",
       "      <td>685</td>\n",
       "      <td>220</td>\n",
       "      <td>11.0</td>\n",
       "      <td>465</td>\n",
       "      <td>V2</td>\n",
       "      <td>282</td>\n",
       "      <td>3.113636</td>\n",
       "    </tr>\n",
       "    <tr>\n",
       "      <th>2</th>\n",
       "      <td>0</td>\n",
       "      <td>690</td>\n",
       "      <td>220</td>\n",
       "      <td>11.0</td>\n",
       "      <td>470</td>\n",
       "      <td>V2</td>\n",
       "      <td>282</td>\n",
       "      <td>3.136364</td>\n",
       "    </tr>\n",
       "    <tr>\n",
       "      <th>3</th>\n",
       "      <td>0</td>\n",
       "      <td>1075</td>\n",
       "      <td>220</td>\n",
       "      <td>11.5</td>\n",
       "      <td>855</td>\n",
       "      <td>V2</td>\n",
       "      <td>282</td>\n",
       "      <td>4.886364</td>\n",
       "    </tr>\n",
       "    <tr>\n",
       "      <th>4</th>\n",
       "      <td>0</td>\n",
       "      <td>828</td>\n",
       "      <td>220</td>\n",
       "      <td>11.0</td>\n",
       "      <td>608</td>\n",
       "      <td>V2</td>\n",
       "      <td>202</td>\n",
       "      <td>3.763636</td>\n",
       "    </tr>\n",
       "  </tbody>\n",
       "</table>\n",
       "</div>"
      ],
      "text/plain": [
       "   Brand  Sale Price  Retail Price  Shoe Size  Profit Margin Silhouette  \\\n",
       "0      0        1097           220       11.0            877         V2   \n",
       "1      0         685           220       11.0            465         V2   \n",
       "2      0         690           220       11.0            470         V2   \n",
       "3      0        1075           220       11.5            855         V2   \n",
       "4      0         828           220       11.0            608         V2   \n",
       "\n",
       "   Elapsed Time Days  Price Ratio  \n",
       "0                342     4.986364  \n",
       "1                282     3.113636  \n",
       "2                282     3.136364  \n",
       "3                282     4.886364  \n",
       "4                202     3.763636  "
      ]
     },
     "execution_count": 79,
     "metadata": {},
     "output_type": "execute_result"
    }
   ],
   "source": [
    "df['Price Ratio'] = df['Sale Price'] / df['Retail Price']\n",
    "df.head()"
   ]
  },
  {
   "cell_type": "markdown",
   "id": "23a20a01-fbb4-4e76-abc8-0e2cad699cc4",
   "metadata": {},
   "source": [
    "### **Fix Silhouette**"
   ]
  },
  {
   "cell_type": "code",
   "execution_count": 80,
   "id": "743629c5-9024-4ad6-9bcb-e559892dafb0",
   "metadata": {},
   "outputs": [],
   "source": [
    "df = pd.concat([df, pd.get_dummies(df['Silhouette'])], axis=1).drop('Silhouette', axis=1)"
   ]
  },
  {
   "cell_type": "code",
   "execution_count": 81,
   "id": "385a3f01-8705-4d2b-9f45-1391bb4b4a60",
   "metadata": {},
   "outputs": [
    {
     "data": {
      "text/html": [
       "<div>\n",
       "<style scoped>\n",
       "    .dataframe tbody tr th:only-of-type {\n",
       "        vertical-align: middle;\n",
       "    }\n",
       "\n",
       "    .dataframe tbody tr th {\n",
       "        vertical-align: top;\n",
       "    }\n",
       "\n",
       "    .dataframe thead th {\n",
       "        text-align: right;\n",
       "    }\n",
       "</style>\n",
       "<table border=\"1\" class=\"dataframe\">\n",
       "  <thead>\n",
       "    <tr style=\"text-align: right;\">\n",
       "      <th></th>\n",
       "      <th>Brand</th>\n",
       "      <th>Sale Price</th>\n",
       "      <th>Retail Price</th>\n",
       "      <th>Shoe Size</th>\n",
       "      <th>Profit Margin</th>\n",
       "      <th>Elapsed Time Days</th>\n",
       "      <th>Price Ratio</th>\n",
       "      <th>Air-Jordan-1-Retro-High</th>\n",
       "      <th>Nike-Air-Force-1-Low</th>\n",
       "      <th>Nike-Air-Force-1-Low-Virgil-Abloh</th>\n",
       "      <th>Nike-Air-Max-90</th>\n",
       "      <th>Nike-Air-Max-97</th>\n",
       "      <th>Nike-Air-Presto</th>\n",
       "      <th>Nike-Air-VaporMax</th>\n",
       "      <th>Nike-Blazer-Mid</th>\n",
       "      <th>Nike-React-Hyperdunk-2017-Flyknit</th>\n",
       "      <th>Nike-Zoom-Fly</th>\n",
       "      <th>Nike-Zoom-Fly-Mercurial</th>\n",
       "      <th>V1</th>\n",
       "      <th>V2</th>\n",
       "    </tr>\n",
       "  </thead>\n",
       "  <tbody>\n",
       "    <tr>\n",
       "      <th>0</th>\n",
       "      <td>0</td>\n",
       "      <td>1097</td>\n",
       "      <td>220</td>\n",
       "      <td>11.0</td>\n",
       "      <td>877</td>\n",
       "      <td>342</td>\n",
       "      <td>4.986364</td>\n",
       "      <td>0</td>\n",
       "      <td>0</td>\n",
       "      <td>0</td>\n",
       "      <td>0</td>\n",
       "      <td>0</td>\n",
       "      <td>0</td>\n",
       "      <td>0</td>\n",
       "      <td>0</td>\n",
       "      <td>0</td>\n",
       "      <td>0</td>\n",
       "      <td>0</td>\n",
       "      <td>0</td>\n",
       "      <td>1</td>\n",
       "    </tr>\n",
       "    <tr>\n",
       "      <th>1</th>\n",
       "      <td>0</td>\n",
       "      <td>685</td>\n",
       "      <td>220</td>\n",
       "      <td>11.0</td>\n",
       "      <td>465</td>\n",
       "      <td>282</td>\n",
       "      <td>3.113636</td>\n",
       "      <td>0</td>\n",
       "      <td>0</td>\n",
       "      <td>0</td>\n",
       "      <td>0</td>\n",
       "      <td>0</td>\n",
       "      <td>0</td>\n",
       "      <td>0</td>\n",
       "      <td>0</td>\n",
       "      <td>0</td>\n",
       "      <td>0</td>\n",
       "      <td>0</td>\n",
       "      <td>0</td>\n",
       "      <td>1</td>\n",
       "    </tr>\n",
       "    <tr>\n",
       "      <th>2</th>\n",
       "      <td>0</td>\n",
       "      <td>690</td>\n",
       "      <td>220</td>\n",
       "      <td>11.0</td>\n",
       "      <td>470</td>\n",
       "      <td>282</td>\n",
       "      <td>3.136364</td>\n",
       "      <td>0</td>\n",
       "      <td>0</td>\n",
       "      <td>0</td>\n",
       "      <td>0</td>\n",
       "      <td>0</td>\n",
       "      <td>0</td>\n",
       "      <td>0</td>\n",
       "      <td>0</td>\n",
       "      <td>0</td>\n",
       "      <td>0</td>\n",
       "      <td>0</td>\n",
       "      <td>0</td>\n",
       "      <td>1</td>\n",
       "    </tr>\n",
       "    <tr>\n",
       "      <th>3</th>\n",
       "      <td>0</td>\n",
       "      <td>1075</td>\n",
       "      <td>220</td>\n",
       "      <td>11.5</td>\n",
       "      <td>855</td>\n",
       "      <td>282</td>\n",
       "      <td>4.886364</td>\n",
       "      <td>0</td>\n",
       "      <td>0</td>\n",
       "      <td>0</td>\n",
       "      <td>0</td>\n",
       "      <td>0</td>\n",
       "      <td>0</td>\n",
       "      <td>0</td>\n",
       "      <td>0</td>\n",
       "      <td>0</td>\n",
       "      <td>0</td>\n",
       "      <td>0</td>\n",
       "      <td>0</td>\n",
       "      <td>1</td>\n",
       "    </tr>\n",
       "    <tr>\n",
       "      <th>4</th>\n",
       "      <td>0</td>\n",
       "      <td>828</td>\n",
       "      <td>220</td>\n",
       "      <td>11.0</td>\n",
       "      <td>608</td>\n",
       "      <td>202</td>\n",
       "      <td>3.763636</td>\n",
       "      <td>0</td>\n",
       "      <td>0</td>\n",
       "      <td>0</td>\n",
       "      <td>0</td>\n",
       "      <td>0</td>\n",
       "      <td>0</td>\n",
       "      <td>0</td>\n",
       "      <td>0</td>\n",
       "      <td>0</td>\n",
       "      <td>0</td>\n",
       "      <td>0</td>\n",
       "      <td>0</td>\n",
       "      <td>1</td>\n",
       "    </tr>\n",
       "  </tbody>\n",
       "</table>\n",
       "</div>"
      ],
      "text/plain": [
       "   Brand  Sale Price  Retail Price  Shoe Size  Profit Margin  \\\n",
       "0      0        1097           220       11.0            877   \n",
       "1      0         685           220       11.0            465   \n",
       "2      0         690           220       11.0            470   \n",
       "3      0        1075           220       11.5            855   \n",
       "4      0         828           220       11.0            608   \n",
       "\n",
       "   Elapsed Time Days  Price Ratio  Air-Jordan-1-Retro-High  \\\n",
       "0                342     4.986364                        0   \n",
       "1                282     3.113636                        0   \n",
       "2                282     3.136364                        0   \n",
       "3                282     4.886364                        0   \n",
       "4                202     3.763636                        0   \n",
       "\n",
       "   Nike-Air-Force-1-Low  Nike-Air-Force-1-Low-Virgil-Abloh  Nike-Air-Max-90  \\\n",
       "0                     0                                  0                0   \n",
       "1                     0                                  0                0   \n",
       "2                     0                                  0                0   \n",
       "3                     0                                  0                0   \n",
       "4                     0                                  0                0   \n",
       "\n",
       "   Nike-Air-Max-97  Nike-Air-Presto  Nike-Air-VaporMax  Nike-Blazer-Mid  \\\n",
       "0                0                0                  0                0   \n",
       "1                0                0                  0                0   \n",
       "2                0                0                  0                0   \n",
       "3                0                0                  0                0   \n",
       "4                0                0                  0                0   \n",
       "\n",
       "   Nike-React-Hyperdunk-2017-Flyknit  Nike-Zoom-Fly  Nike-Zoom-Fly-Mercurial  \\\n",
       "0                                  0              0                        0   \n",
       "1                                  0              0                        0   \n",
       "2                                  0              0                        0   \n",
       "3                                  0              0                        0   \n",
       "4                                  0              0                        0   \n",
       "\n",
       "   V1  V2  \n",
       "0   0   1  \n",
       "1   0   1  \n",
       "2   0   1  \n",
       "3   0   1  \n",
       "4   0   1  "
      ]
     },
     "execution_count": 81,
     "metadata": {},
     "output_type": "execute_result"
    }
   ],
   "source": [
    "df.head()"
   ]
  },
  {
   "cell_type": "code",
   "execution_count": null,
   "id": "7235829a-5a04-4a36-8fc9-2cd46a0e3c84",
   "metadata": {},
   "outputs": [],
   "source": []
  },
  {
   "cell_type": "markdown",
   "id": "7494456d-6368-43af-890d-a18750c6d807",
   "metadata": {},
   "source": [
    "#### Colorway\n",
    "- I think that the color of the sneaker would have some influence on the price. However, not sure how to treat this column.\n",
    "- there are 41 colorways\n",
    "- however, some of them are \"unknown\" or \"2018\" or \"AF100\" - how are these to be treated?\n",
    "- these are all off-white sneakers. "
   ]
  },
  {
   "cell_type": "raw",
   "id": "a3a0a77c-f173-4bb8-bba9-8e79f73e1a8d",
   "metadata": {},
   "source": [
    "df['Colorway'].nunique()\n",
    "#40 colorways"
   ]
  },
  {
   "cell_type": "raw",
   "id": "a8e2d185-fce7-43ca-b139-fc1594c43188",
   "metadata": {
    "tags": []
   },
   "source": [
    "df['Colorway'].value_counts()"
   ]
  },
  {
   "cell_type": "raw",
   "id": "ec68cf70-b9bd-4fb2-ba61-958e046dcdc1",
   "metadata": {},
   "source": [
    "# dropping 'Colorway'\n",
    "df = df.drop(columns=['Colorway'], axis=1)\n",
    "df.head()"
   ]
  },
  {
   "cell_type": "markdown",
   "id": "5fa8fab0-80d6-424e-b6f3-7104a1919522",
   "metadata": {},
   "source": [
    "### **TRAINING & TEST SETS**"
   ]
  },
  {
   "cell_type": "code",
   "execution_count": 82,
   "id": "078b4698-c400-42e6-912e-f22c0ee69e3d",
   "metadata": {
    "tags": []
   },
   "outputs": [
    {
     "data": {
      "text/html": [
       "<div>\n",
       "<style scoped>\n",
       "    .dataframe tbody tr th:only-of-type {\n",
       "        vertical-align: middle;\n",
       "    }\n",
       "\n",
       "    .dataframe tbody tr th {\n",
       "        vertical-align: top;\n",
       "    }\n",
       "\n",
       "    .dataframe thead th {\n",
       "        text-align: right;\n",
       "    }\n",
       "</style>\n",
       "<table border=\"1\" class=\"dataframe\">\n",
       "  <thead>\n",
       "    <tr style=\"text-align: right;\">\n",
       "      <th></th>\n",
       "      <th>const</th>\n",
       "      <th>Brand</th>\n",
       "      <th>Sale Price</th>\n",
       "      <th>Retail Price</th>\n",
       "      <th>Shoe Size</th>\n",
       "      <th>Profit Margin</th>\n",
       "      <th>Elapsed Time Days</th>\n",
       "      <th>Price Ratio</th>\n",
       "      <th>Air-Jordan-1-Retro-High</th>\n",
       "      <th>Nike-Air-Force-1-Low</th>\n",
       "      <th>...</th>\n",
       "      <th>Nike-Air-Max-90</th>\n",
       "      <th>Nike-Air-Max-97</th>\n",
       "      <th>Nike-Air-Presto</th>\n",
       "      <th>Nike-Air-VaporMax</th>\n",
       "      <th>Nike-Blazer-Mid</th>\n",
       "      <th>Nike-React-Hyperdunk-2017-Flyknit</th>\n",
       "      <th>Nike-Zoom-Fly</th>\n",
       "      <th>Nike-Zoom-Fly-Mercurial</th>\n",
       "      <th>V1</th>\n",
       "      <th>V2</th>\n",
       "    </tr>\n",
       "  </thead>\n",
       "  <tbody>\n",
       "    <tr>\n",
       "      <th>0</th>\n",
       "      <td>1.0</td>\n",
       "      <td>0</td>\n",
       "      <td>1097</td>\n",
       "      <td>220</td>\n",
       "      <td>11.0</td>\n",
       "      <td>877</td>\n",
       "      <td>342</td>\n",
       "      <td>4.986364</td>\n",
       "      <td>0</td>\n",
       "      <td>0</td>\n",
       "      <td>...</td>\n",
       "      <td>0</td>\n",
       "      <td>0</td>\n",
       "      <td>0</td>\n",
       "      <td>0</td>\n",
       "      <td>0</td>\n",
       "      <td>0</td>\n",
       "      <td>0</td>\n",
       "      <td>0</td>\n",
       "      <td>0</td>\n",
       "      <td>1</td>\n",
       "    </tr>\n",
       "    <tr>\n",
       "      <th>1</th>\n",
       "      <td>1.0</td>\n",
       "      <td>0</td>\n",
       "      <td>685</td>\n",
       "      <td>220</td>\n",
       "      <td>11.0</td>\n",
       "      <td>465</td>\n",
       "      <td>282</td>\n",
       "      <td>3.113636</td>\n",
       "      <td>0</td>\n",
       "      <td>0</td>\n",
       "      <td>...</td>\n",
       "      <td>0</td>\n",
       "      <td>0</td>\n",
       "      <td>0</td>\n",
       "      <td>0</td>\n",
       "      <td>0</td>\n",
       "      <td>0</td>\n",
       "      <td>0</td>\n",
       "      <td>0</td>\n",
       "      <td>0</td>\n",
       "      <td>1</td>\n",
       "    </tr>\n",
       "    <tr>\n",
       "      <th>2</th>\n",
       "      <td>1.0</td>\n",
       "      <td>0</td>\n",
       "      <td>690</td>\n",
       "      <td>220</td>\n",
       "      <td>11.0</td>\n",
       "      <td>470</td>\n",
       "      <td>282</td>\n",
       "      <td>3.136364</td>\n",
       "      <td>0</td>\n",
       "      <td>0</td>\n",
       "      <td>...</td>\n",
       "      <td>0</td>\n",
       "      <td>0</td>\n",
       "      <td>0</td>\n",
       "      <td>0</td>\n",
       "      <td>0</td>\n",
       "      <td>0</td>\n",
       "      <td>0</td>\n",
       "      <td>0</td>\n",
       "      <td>0</td>\n",
       "      <td>1</td>\n",
       "    </tr>\n",
       "    <tr>\n",
       "      <th>3</th>\n",
       "      <td>1.0</td>\n",
       "      <td>0</td>\n",
       "      <td>1075</td>\n",
       "      <td>220</td>\n",
       "      <td>11.5</td>\n",
       "      <td>855</td>\n",
       "      <td>282</td>\n",
       "      <td>4.886364</td>\n",
       "      <td>0</td>\n",
       "      <td>0</td>\n",
       "      <td>...</td>\n",
       "      <td>0</td>\n",
       "      <td>0</td>\n",
       "      <td>0</td>\n",
       "      <td>0</td>\n",
       "      <td>0</td>\n",
       "      <td>0</td>\n",
       "      <td>0</td>\n",
       "      <td>0</td>\n",
       "      <td>0</td>\n",
       "      <td>1</td>\n",
       "    </tr>\n",
       "    <tr>\n",
       "      <th>4</th>\n",
       "      <td>1.0</td>\n",
       "      <td>0</td>\n",
       "      <td>828</td>\n",
       "      <td>220</td>\n",
       "      <td>11.0</td>\n",
       "      <td>608</td>\n",
       "      <td>202</td>\n",
       "      <td>3.763636</td>\n",
       "      <td>0</td>\n",
       "      <td>0</td>\n",
       "      <td>...</td>\n",
       "      <td>0</td>\n",
       "      <td>0</td>\n",
       "      <td>0</td>\n",
       "      <td>0</td>\n",
       "      <td>0</td>\n",
       "      <td>0</td>\n",
       "      <td>0</td>\n",
       "      <td>0</td>\n",
       "      <td>0</td>\n",
       "      <td>1</td>\n",
       "    </tr>\n",
       "  </tbody>\n",
       "</table>\n",
       "<p>5 rows × 21 columns</p>\n",
       "</div>"
      ],
      "text/plain": [
       "   const  Brand  Sale Price  Retail Price  Shoe Size  Profit Margin  \\\n",
       "0    1.0      0        1097           220       11.0            877   \n",
       "1    1.0      0         685           220       11.0            465   \n",
       "2    1.0      0         690           220       11.0            470   \n",
       "3    1.0      0        1075           220       11.5            855   \n",
       "4    1.0      0         828           220       11.0            608   \n",
       "\n",
       "   Elapsed Time Days  Price Ratio  Air-Jordan-1-Retro-High  \\\n",
       "0                342     4.986364                        0   \n",
       "1                282     3.113636                        0   \n",
       "2                282     3.136364                        0   \n",
       "3                282     4.886364                        0   \n",
       "4                202     3.763636                        0   \n",
       "\n",
       "   Nike-Air-Force-1-Low  ...  Nike-Air-Max-90  Nike-Air-Max-97  \\\n",
       "0                     0  ...                0                0   \n",
       "1                     0  ...                0                0   \n",
       "2                     0  ...                0                0   \n",
       "3                     0  ...                0                0   \n",
       "4                     0  ...                0                0   \n",
       "\n",
       "   Nike-Air-Presto  Nike-Air-VaporMax  Nike-Blazer-Mid  \\\n",
       "0                0                  0                0   \n",
       "1                0                  0                0   \n",
       "2                0                  0                0   \n",
       "3                0                  0                0   \n",
       "4                0                  0                0   \n",
       "\n",
       "   Nike-React-Hyperdunk-2017-Flyknit  Nike-Zoom-Fly  Nike-Zoom-Fly-Mercurial  \\\n",
       "0                                  0              0                        0   \n",
       "1                                  0              0                        0   \n",
       "2                                  0              0                        0   \n",
       "3                                  0              0                        0   \n",
       "4                                  0              0                        0   \n",
       "\n",
       "   V1  V2  \n",
       "0   0   1  \n",
       "1   0   1  \n",
       "2   0   1  \n",
       "3   0   1  \n",
       "4   0   1  \n",
       "\n",
       "[5 rows x 21 columns]"
      ]
     },
     "execution_count": 82,
     "metadata": {},
     "output_type": "execute_result"
    }
   ],
   "source": [
    "df = sm.add_constant(df) \n",
    "#add a column to the dataset where the value is all 1's so the OLS Regression line doesn't have to pass through the origin\n",
    "\n",
    "df.head()"
   ]
  },
  {
   "cell_type": "code",
   "execution_count": 83,
   "id": "d5f35f95-a5d1-4d21-befc-92a696d314c1",
   "metadata": {},
   "outputs": [],
   "source": [
    "X = df[['Brand', 'Shoe Size']]\n",
    "#X = df.drop(['Price Ratio', 'const'], axis=1)\n",
    "y = df['Price Ratio']\n",
    "\n",
    "from sklearn.model_selection import train_test_split\n",
    "X_train, X_test, y_train, y_test = train_test_split(X, y, test_size=0.2, random_state=2)"
   ]
  },
  {
   "cell_type": "code",
   "execution_count": 84,
   "id": "504e0815-3805-413b-8da6-5327f8a971ca",
   "metadata": {},
   "outputs": [
    {
     "data": {
      "text/html": [
       "<table class=\"simpletable\">\n",
       "<caption>OLS Regression Results</caption>\n",
       "<tr>\n",
       "  <th>Dep. Variable:</th>       <td>Price Ratio</td>   <th>  R-squared (uncentered):</th>       <td>   0.807</td>  \n",
       "</tr>\n",
       "<tr>\n",
       "  <th>Model:</th>                   <td>OLS</td>       <th>  Adj. R-squared (uncentered):</th>  <td>   0.807</td>  \n",
       "</tr>\n",
       "<tr>\n",
       "  <th>Method:</th>             <td>Least Squares</td>  <th>  F-statistic:       </th>           <td>1.667e+05</td> \n",
       "</tr>\n",
       "<tr>\n",
       "  <th>Date:</th>             <td>Wed, 22 Mar 2023</td> <th>  Prob (F-statistic):</th>            <td>  0.00</td>   \n",
       "</tr>\n",
       "<tr>\n",
       "  <th>Time:</th>                 <td>16:53:30</td>     <th>  Log-Likelihood:    </th>          <td>-1.2735e+05</td>\n",
       "</tr>\n",
       "<tr>\n",
       "  <th>No. Observations:</th>      <td> 79964</td>      <th>  AIC:               </th>           <td>2.547e+05</td> \n",
       "</tr>\n",
       "<tr>\n",
       "  <th>Df Residuals:</th>          <td> 79962</td>      <th>  BIC:               </th>           <td>2.547e+05</td> \n",
       "</tr>\n",
       "<tr>\n",
       "  <th>Df Model:</th>              <td>     2</td>      <th>                     </th>               <td> </td>     \n",
       "</tr>\n",
       "<tr>\n",
       "  <th>Covariance Type:</th>      <td>nonrobust</td>    <th>                     </th>               <td> </td>     \n",
       "</tr>\n",
       "</table>\n",
       "<table class=\"simpletable\">\n",
       "<tr>\n",
       "      <td></td>         <th>coef</th>     <th>std err</th>      <th>t</th>      <th>P>|t|</th>  <th>[0.025</th>    <th>0.975]</th>  \n",
       "</tr>\n",
       "<tr>\n",
       "  <th>Brand</th>     <td>    2.2396</td> <td>    0.009</td> <td>  238.842</td> <td> 0.000</td> <td>    2.221</td> <td>    2.258</td>\n",
       "</tr>\n",
       "<tr>\n",
       "  <th>Shoe Size</th> <td>    0.1649</td> <td>    0.001</td> <td>  320.777</td> <td> 0.000</td> <td>    0.164</td> <td>    0.166</td>\n",
       "</tr>\n",
       "</table>\n",
       "<table class=\"simpletable\">\n",
       "<tr>\n",
       "  <th>Omnibus:</th>       <td>44117.392</td> <th>  Durbin-Watson:     </th>  <td>   1.989</td> \n",
       "</tr>\n",
       "<tr>\n",
       "  <th>Prob(Omnibus):</th>  <td> 0.000</td>   <th>  Jarque-Bera (JB):  </th> <td>766119.526</td>\n",
       "</tr>\n",
       "<tr>\n",
       "  <th>Skew:</th>           <td> 2.285</td>   <th>  Prob(JB):          </th>  <td>    0.00</td> \n",
       "</tr>\n",
       "<tr>\n",
       "  <th>Kurtosis:</th>       <td>17.459</td>   <th>  Cond. No.          </th>  <td>    21.5</td> \n",
       "</tr>\n",
       "</table><br/><br/>Notes:<br/>[1] R² is computed without centering (uncentered) since the model does not contain a constant.<br/>[2] Standard Errors assume that the covariance matrix of the errors is correctly specified."
      ],
      "text/plain": [
       "<class 'statsmodels.iolib.summary.Summary'>\n",
       "\"\"\"\n",
       "                                 OLS Regression Results                                \n",
       "=======================================================================================\n",
       "Dep. Variable:            Price Ratio   R-squared (uncentered):                   0.807\n",
       "Model:                            OLS   Adj. R-squared (uncentered):              0.807\n",
       "Method:                 Least Squares   F-statistic:                          1.667e+05\n",
       "Date:                Wed, 22 Mar 2023   Prob (F-statistic):                        0.00\n",
       "Time:                        16:53:30   Log-Likelihood:                     -1.2735e+05\n",
       "No. Observations:               79964   AIC:                                  2.547e+05\n",
       "Df Residuals:                   79962   BIC:                                  2.547e+05\n",
       "Df Model:                           2                                                  \n",
       "Covariance Type:            nonrobust                                                  \n",
       "==============================================================================\n",
       "                 coef    std err          t      P>|t|      [0.025      0.975]\n",
       "------------------------------------------------------------------------------\n",
       "Brand          2.2396      0.009    238.842      0.000       2.221       2.258\n",
       "Shoe Size      0.1649      0.001    320.777      0.000       0.164       0.166\n",
       "==============================================================================\n",
       "Omnibus:                    44117.392   Durbin-Watson:                   1.989\n",
       "Prob(Omnibus):                  0.000   Jarque-Bera (JB):           766119.526\n",
       "Skew:                           2.285   Prob(JB):                         0.00\n",
       "Kurtosis:                      17.459   Cond. No.                         21.5\n",
       "==============================================================================\n",
       "\n",
       "Notes:\n",
       "[1] R² is computed without centering (uncentered) since the model does not contain a constant.\n",
       "[2] Standard Errors assume that the covariance matrix of the errors is correctly specified.\n",
       "\"\"\""
      ]
     },
     "execution_count": 84,
     "metadata": {},
     "output_type": "execute_result"
    }
   ],
   "source": [
    "lr = sm.OLS(y_train, X_train).fit()\n",
    "lr.summary()\n",
    "\n",
    "#looks like the datetime values didn't work. Tried dropping"
   ]
  },
  {
   "cell_type": "markdown",
   "id": "79dc3384-8012-406d-9b26-e2af6ff79706",
   "metadata": {},
   "source": [
    "---\n",
    "---\n",
    "---\n",
    "# Hayden's Notes March 22, 2023\n",
    "The first thing that I notice about your model is that is doesn't have a constant, meaning that the regression line is forced to pass through the origin. It is interesting that even so, the model has an R-squared value of 80%. When I added a constant in, the R-squared value actually went down. I'm not sure why this is..."
   ]
  },
  {
   "cell_type": "code",
   "execution_count": 85,
   "id": "f73ef6e7-e0fc-4701-b413-eee416b504a4",
   "metadata": {},
   "outputs": [
    {
     "data": {
      "text/html": [
       "<table class=\"simpletable\">\n",
       "<caption>OLS Regression Results</caption>\n",
       "<tr>\n",
       "  <th>Dep. Variable:</th>       <td>Price Ratio</td>   <th>  R-squared:         </th>  <td>   0.426</td>  \n",
       "</tr>\n",
       "<tr>\n",
       "  <th>Model:</th>                   <td>OLS</td>       <th>  Adj. R-squared:    </th>  <td>   0.426</td>  \n",
       "</tr>\n",
       "<tr>\n",
       "  <th>Method:</th>             <td>Least Squares</td>  <th>  F-statistic:       </th>  <td>2.972e+04</td> \n",
       "</tr>\n",
       "<tr>\n",
       "  <th>Date:</th>             <td>Wed, 22 Mar 2023</td> <th>  Prob (F-statistic):</th>   <td>  0.00</td>   \n",
       "</tr>\n",
       "<tr>\n",
       "  <th>Time:</th>                 <td>16:53:30</td>     <th>  Log-Likelihood:    </th> <td>-1.2382e+05</td>\n",
       "</tr>\n",
       "<tr>\n",
       "  <th>No. Observations:</th>      <td> 79964</td>      <th>  AIC:               </th>  <td>2.476e+05</td> \n",
       "</tr>\n",
       "<tr>\n",
       "  <th>Df Residuals:</th>          <td> 79961</td>      <th>  BIC:               </th>  <td>2.477e+05</td> \n",
       "</tr>\n",
       "<tr>\n",
       "  <th>Df Model:</th>              <td>     2</td>      <th>                     </th>      <td> </td>     \n",
       "</tr>\n",
       "<tr>\n",
       "  <th>Covariance Type:</th>      <td>nonrobust</td>    <th>                     </th>      <td> </td>     \n",
       "</tr>\n",
       "</table>\n",
       "<table class=\"simpletable\">\n",
       "<tr>\n",
       "      <td></td>         <th>coef</th>     <th>std err</th>      <th>t</th>      <th>P>|t|</th>  <th>[0.025</th>    <th>0.975]</th>  \n",
       "</tr>\n",
       "<tr>\n",
       "  <th>const</th>     <td>    1.4387</td> <td>    0.017</td> <td>   86.008</td> <td> 0.000</td> <td>    1.406</td> <td>    1.472</td>\n",
       "</tr>\n",
       "<tr>\n",
       "  <th>Brand</th>     <td>    2.1776</td> <td>    0.009</td> <td>  241.960</td> <td> 0.000</td> <td>    2.160</td> <td>    2.195</td>\n",
       "</tr>\n",
       "<tr>\n",
       "  <th>Shoe Size</th> <td>    0.0217</td> <td>    0.002</td> <td>   12.518</td> <td> 0.000</td> <td>    0.018</td> <td>    0.025</td>\n",
       "</tr>\n",
       "</table>\n",
       "<table class=\"simpletable\">\n",
       "<tr>\n",
       "  <th>Omnibus:</th>       <td>52146.485</td> <th>  Durbin-Watson:     </th>  <td>   1.998</td>  \n",
       "</tr>\n",
       "<tr>\n",
       "  <th>Prob(Omnibus):</th>  <td> 0.000</td>   <th>  Jarque-Bera (JB):  </th> <td>1178218.378</td>\n",
       "</tr>\n",
       "<tr>\n",
       "  <th>Skew:</th>           <td> 2.795</td>   <th>  Prob(JB):          </th>  <td>    0.00</td>  \n",
       "</tr>\n",
       "<tr>\n",
       "  <th>Kurtosis:</th>       <td>20.955</td>   <th>  Cond. No.          </th>  <td>    40.5</td>  \n",
       "</tr>\n",
       "</table><br/><br/>Notes:<br/>[1] Standard Errors assume that the covariance matrix of the errors is correctly specified."
      ],
      "text/plain": [
       "<class 'statsmodels.iolib.summary.Summary'>\n",
       "\"\"\"\n",
       "                            OLS Regression Results                            \n",
       "==============================================================================\n",
       "Dep. Variable:            Price Ratio   R-squared:                       0.426\n",
       "Model:                            OLS   Adj. R-squared:                  0.426\n",
       "Method:                 Least Squares   F-statistic:                 2.972e+04\n",
       "Date:                Wed, 22 Mar 2023   Prob (F-statistic):               0.00\n",
       "Time:                        16:53:30   Log-Likelihood:            -1.2382e+05\n",
       "No. Observations:               79964   AIC:                         2.476e+05\n",
       "Df Residuals:                   79961   BIC:                         2.477e+05\n",
       "Df Model:                           2                                         \n",
       "Covariance Type:            nonrobust                                         \n",
       "==============================================================================\n",
       "                 coef    std err          t      P>|t|      [0.025      0.975]\n",
       "------------------------------------------------------------------------------\n",
       "const          1.4387      0.017     86.008      0.000       1.406       1.472\n",
       "Brand          2.1776      0.009    241.960      0.000       2.160       2.195\n",
       "Shoe Size      0.0217      0.002     12.518      0.000       0.018       0.025\n",
       "==============================================================================\n",
       "Omnibus:                    52146.485   Durbin-Watson:                   1.998\n",
       "Prob(Omnibus):                  0.000   Jarque-Bera (JB):          1178218.378\n",
       "Skew:                           2.795   Prob(JB):                         0.00\n",
       "Kurtosis:                      20.955   Cond. No.                         40.5\n",
       "==============================================================================\n",
       "\n",
       "Notes:\n",
       "[1] Standard Errors assume that the covariance matrix of the errors is correctly specified.\n",
       "\"\"\""
      ]
     },
     "execution_count": 85,
     "metadata": {},
     "output_type": "execute_result"
    }
   ],
   "source": [
    "lr2 = sm.OLS(y_train, sm.add_constant(X_train)).fit()\n",
    "lr2.summary()"
   ]
  },
  {
   "cell_type": "code",
   "execution_count": 86,
   "id": "a852623b-eecb-45d5-8a4a-38c3defedf61",
   "metadata": {},
   "outputs": [
    {
     "name": "stdout",
     "output_type": "stream",
     "text": [
      "MSE without a constant:  1.4847887763928347\n",
      "MSE with constant:  1.372308760099916\n"
     ]
    }
   ],
   "source": [
    "from statsmodels.tools.eval_measures import mse\n",
    "\n",
    "# Let's look at the testing MSE of the first model (without a constant)\n",
    "predicted = lr.predict(X_test)\n",
    "print(\"MSE without a constant: \", mse(predicted, y_test))\n",
    "\n",
    "# Then, let's look at the testing MSE of the second model (with constant)\n",
    "predicted = lr2.predict(sm.add_constant(X_test))\n",
    "print(\"MSE with constant: \", mse(predicted, y_test))"
   ]
  },
  {
   "cell_type": "markdown",
   "id": "2b0a00a0-d101-4655-aa23-725b44fc0ec6",
   "metadata": {},
   "source": [
    "## About the MSE\n",
    "Looking at the code above, we can see that even though the R-squared value was lower for the model without a constant, the model actually tests better when it has a constant (it had a lower MSE). That is a good indication that we should add a constant to the model.\n",
    "\n",
    "The MSE of 1.37 means that on average, predicted values tend to be about 1.37 away from their true values after being squared. We can also look at the true error values for each individual row. Remember that `Price Ratio`, which is the new column that you created, is essentially a percentage that says how much of the retail price that the shoe actually sold for. The `Error` can be interpreted as meaning \"the difference in predicted percentage of retail price that the shoe sold for from the actual percentage of retail price\". \n",
    "\n",
    "The Root Mean Squared Error is 1.17, meaning that on average, each data point has an error of about 1.17. Since the dependent variable is Price Ratio, that means that on average, predicted values tend to error when predicting the price ratio by about 117%. An error of 1.17, for example, would mean that the model tended to predict, on average, each sale price with an error of 1.17. So if the retail price was 100, and the actual sale price was 200 (price ratio of 2), your model would have predicted a price ratio of 3.17, or 317 dollars, either above or below the actual value.\n",
    "\n",
    "It's up to you to decide, as the buyer/seller, if that is a good accuracy for you. You could buy some shoes for 100, and then the range of predicted selling prices would range from -1.17 times the actual sale price (80% of the retail price, or 80 dollars) or up to 1.17 times the actual sale price (317 dollars) reliably. That's a big confidence interval, and it doesn't seem to provide much certainty. I'm just making up an example, by the way.\n",
    "\n",
    "One thing that is **super** interesting to me is the coefficient for Brand, which is 2.177. This means that for whichever shoe brand is a 1 (Nike, I assume), just simply being the brand Nike will increase the profit ratio of the shoe by 217%. So, Nikes are, in general, the more profitable shoe to buy and resell.\n",
    "\n",
    "Shoe size doesn't seem to tell us anything, as far as I can tell here."
   ]
  },
  {
   "cell_type": "code",
   "execution_count": 87,
   "id": "2f103bb9-d895-4ae7-b086-84330944e794",
   "metadata": {},
   "outputs": [
    {
     "data": {
      "text/html": [
       "<div>\n",
       "<style scoped>\n",
       "    .dataframe tbody tr th:only-of-type {\n",
       "        vertical-align: middle;\n",
       "    }\n",
       "\n",
       "    .dataframe tbody tr th {\n",
       "        vertical-align: top;\n",
       "    }\n",
       "\n",
       "    .dataframe thead th {\n",
       "        text-align: right;\n",
       "    }\n",
       "</style>\n",
       "<table border=\"1\" class=\"dataframe\">\n",
       "  <thead>\n",
       "    <tr style=\"text-align: right;\">\n",
       "      <th></th>\n",
       "      <th>Brand</th>\n",
       "      <th>Shoe Size</th>\n",
       "      <th>Actual Value</th>\n",
       "      <th>Predicted Value</th>\n",
       "      <th>Error</th>\n",
       "    </tr>\n",
       "  </thead>\n",
       "  <tbody>\n",
       "    <tr>\n",
       "      <th>96954</th>\n",
       "      <td>1</td>\n",
       "      <td>11.0</td>\n",
       "      <td>2.352941</td>\n",
       "      <td>3.855396</td>\n",
       "      <td>-1.502455</td>\n",
       "    </tr>\n",
       "    <tr>\n",
       "      <th>87819</th>\n",
       "      <td>1</td>\n",
       "      <td>10.0</td>\n",
       "      <td>4.184615</td>\n",
       "      <td>3.833665</td>\n",
       "      <td>0.350951</td>\n",
       "    </tr>\n",
       "    <tr>\n",
       "      <th>95584</th>\n",
       "      <td>1</td>\n",
       "      <td>4.0</td>\n",
       "      <td>1.400000</td>\n",
       "      <td>3.703279</td>\n",
       "      <td>-2.303279</td>\n",
       "    </tr>\n",
       "    <tr>\n",
       "      <th>50629</th>\n",
       "      <td>0</td>\n",
       "      <td>10.0</td>\n",
       "      <td>1.318182</td>\n",
       "      <td>1.656053</td>\n",
       "      <td>-0.337872</td>\n",
       "    </tr>\n",
       "    <tr>\n",
       "      <th>35760</th>\n",
       "      <td>0</td>\n",
       "      <td>5.5</td>\n",
       "      <td>1.240909</td>\n",
       "      <td>1.558264</td>\n",
       "      <td>-0.317355</td>\n",
       "    </tr>\n",
       "  </tbody>\n",
       "</table>\n",
       "</div>"
      ],
      "text/plain": [
       "       Brand  Shoe Size  Actual Value  Predicted Value     Error\n",
       "96954      1       11.0      2.352941         3.855396 -1.502455\n",
       "87819      1       10.0      4.184615         3.833665  0.350951\n",
       "95584      1        4.0      1.400000         3.703279 -2.303279\n",
       "50629      0       10.0      1.318182         1.656053 -0.337872\n",
       "35760      0        5.5      1.240909         1.558264 -0.317355"
      ]
     },
     "execution_count": 87,
     "metadata": {},
     "output_type": "execute_result"
    }
   ],
   "source": [
    "MSE_df = X_test.copy()\n",
    "MSE_df['Actual Value'] = y_test\n",
    "MSE_df['Predicted Value'] = predicted\n",
    "MSE_df['Error'] = MSE_df['Actual Value'] - MSE_df['Predicted Value']\n",
    "MSE_df.head()"
   ]
  },
  {
   "cell_type": "code",
   "execution_count": 88,
   "id": "e631427b-ff23-4625-b9dc-84d86e2cc085",
   "metadata": {},
   "outputs": [
    {
     "data": {
      "text/plain": [
       "1.1714558293422404"
      ]
     },
     "execution_count": 88,
     "metadata": {},
     "output_type": "execute_result"
    }
   ],
   "source": [
    "np.sqrt(mse(predicted, y_test))"
   ]
  },
  {
   "cell_type": "markdown",
   "id": "ecf0fa78-fa28-4932-8250-2360521efe3e",
   "metadata": {},
   "source": [
    "These are just some graphs that I made"
   ]
  },
  {
   "cell_type": "code",
   "execution_count": 89,
   "id": "47853389-0533-495f-86d2-6640d7a7f4af",
   "metadata": {},
   "outputs": [
    {
     "data": {
      "text/plain": [
       "<matplotlib.collections.PathCollection at 0x22294531f00>"
      ]
     },
     "execution_count": 89,
     "metadata": {},
     "output_type": "execute_result"
    },
    {
     "data": {
      "image/png": "[encoded data removed]",
      "text/plain": [
       "<Figure size 432x288 with 1 Axes>"
      ]
     },
     "metadata": {
      "needs_background": "light"
     },
     "output_type": "display_data"
    }
   ],
   "source": [
    "plt.scatter(X_test['Brand'], y_test, c='blue', alpha=.5)\n",
    "predicted = lr.predict(X_test)\n",
    "plt.scatter(X_test['Brand'], predicted, c=np.where(X_test['Brand'] == 0,'red','green'), alpha=.7, s=70)"
   ]
  },
  {
   "cell_type": "code",
   "execution_count": 90,
   "id": "598eddc5-3a0f-4201-afb3-04f07e502dd3",
   "metadata": {},
   "outputs": [
    {
     "data": {
      "text/plain": [
       "<matplotlib.collections.PathCollection at 0x222851608e0>"
      ]
     },
     "execution_count": 90,
     "metadata": {},
     "output_type": "execute_result"
    },
    {
     "data": {
      "image/png": "[encoded data removed]",
      "text/plain": [
       "<Figure size 432x288 with 1 Axes>"
      ]
     },
     "metadata": {
      "needs_background": "light"
     },
     "output_type": "display_data"
    }
   ],
   "source": [
    "plt.scatter(X_test['Shoe Size'], y_test, c='blue', alpha=.5)\n",
    "predicted = lr.predict(X_test)\n",
    "plt.scatter(X_test['Shoe Size'], predicted, c=np.where(X_test['Brand']==0,'red','green'), alpha=.7, s=70)"
   ]
  },
  {
   "cell_type": "code",
   "execution_count": 91,
   "id": "795215c8-c81c-4c71-bdae-cb1cc86c3d06",
   "metadata": {},
   "outputs": [
    {
     "data": {
      "text/plain": [
       "<matplotlib.collections.PathCollection at 0x22294037190>"
      ]
     },
     "execution_count": 91,
     "metadata": {},
     "output_type": "execute_result"
    },
    {
     "data": {
      "image/png": "[encoded data removed]",
      "text/plain": [
       "<Figure size 432x288 with 1 Axes>"
      ]
     },
     "metadata": {
      "needs_background": "light"
     },
     "output_type": "display_data"
    }
   ],
   "source": [
    "plt.scatter(X_test['Brand'], y_test, c='blue', alpha=.5)\n",
    "predicted = lr2.predict(sm.add_constant(X_test))\n",
    "plt.scatter(X_test['Brand'], predicted, c=np.where(X_test['Brand'] == 0,'red','green'), alpha=.7, s=70)"
   ]
  },
  {
   "cell_type": "code",
   "execution_count": 97,
   "id": "e4f245fc-6040-4ca6-99a3-0800099db245",
   "metadata": {},
   "outputs": [
    {
     "data": {
      "image/png": "[encoded data removed]",
      "text/plain": [
       "<Figure size 432x288 with 1 Axes>"
      ]
     },
     "metadata": {
      "needs_background": "light"
     },
     "output_type": "display_data"
    }
   ],
   "source": [
    "plt.scatter(X_test['Shoe Size'], y_test, c='blue', alpha=.5)\n",
    "predicted = lr2.predict(sm.add_constant(X_test))\n",
    "plt.scatter(X_test['Shoe Size'], predicted, c=np.where(X_test['Brand']==0,'red','green'), alpha=.7, s=70)\n",
    "plt.xlabel('Shoe Size')\n",
    "plt.ylabel('Predicted Price Ratio')\n",
    "plt.show()"
   ]
  },
  {
   "cell_type": "markdown",
   "id": "795ea991-ff05-4896-9094-c3146057ae4f",
   "metadata": {},
   "source": [
    "## How to get the regression line written out\n",
    "Let's look at how to get the coefficients written out. This will essentially become a long formatted string.\n",
    "\n",
    "The `.params` attribute is a Series with the coefficients and the feature names."
   ]
  },
  {
   "cell_type": "code",
   "execution_count": 99,
   "id": "7ff5e57a-be30-4dc8-943c-760ff0d7c7c1",
   "metadata": {},
   "outputs": [
    {
     "data": {
      "text/plain": [
       "const        1.438744\n",
       "Brand        2.177612\n",
       "Shoe Size    0.021731\n",
       "dtype: float64"
      ]
     },
     "execution_count": 99,
     "metadata": {},
     "output_type": "execute_result"
    }
   ],
   "source": [
    "lr2.params"
   ]
  },
  {
   "cell_type": "code",
   "execution_count": 112,
   "id": "42d11cb5-a1f2-4e25-a761-d947f2dbe7bc",
   "metadata": {},
   "outputs": [
    {
     "data": {
      "text/plain": [
       "'PriceRatio = 2.18*Brand + 0.02*ShoeSize + 1.44'"
      ]
     },
     "execution_count": 112,
     "metadata": {},
     "output_type": "execute_result"
    }
   ],
   "source": [
    "equation = f\"PriceRatio = {round(lr2.params['Brand'],2)}*Brand + {round(lr2.params['Shoe Size'],2)}*ShoeSize + {round(lr2.params['const'],2)}\"\n",
    "equation"
   ]
  },
  {
   "cell_type": "markdown",
   "id": "90bc3a7a-08db-4579-a745-14d3b5c1236b",
   "metadata": {},
   "source": [
    "## How to plot\n",
    "One way that you can plot this graph is in 3 dimensions. Lucky you only have 3. If you run the file `3d_graph.py` included in the zip folder, you can see the output of the 3 dimensional graph. The red points are the actual data points and the blue square that you see is the regression line. Doesn't look very pretty but it works.\n",
    "\n",
    "The other way to plot a three dimensional graph is by visualizing a single variable at a time. That's going to be the closest thing to what you want."
   ]
  },
  {
   "cell_type": "code",
   "execution_count": 138,
   "id": "147c18d7-4e90-459b-af16-1ada5f4b7898",
   "metadata": {},
   "outputs": [
    {
     "data": {
      "image/png": "[encoded data removed]",
      "text/plain": [
       "<Figure size 720x576 with 1 Axes>"
      ]
     },
     "metadata": {
      "needs_background": "light"
     },
     "output_type": "display_data"
    }
   ],
   "source": [
    "lr = sm.OLS(y_train, sm.add_constant(X_train[['Brand']])).fit()\n",
    "predicted = lr.predict(X_test)\n",
    "plt.figure(figsize=(10, 8))\n",
    "plt.scatter(X_test['Brand'], y_test)\n",
    "\n",
    "brands = np.linspace(0, 1, 1001)\n",
    "predicted = lr.predict(sm.add_constant(brands))\n",
    "\n",
    "plt.plot(brands, predicted, c='red')\n",
    "plt.title('Regression Line Showing Brand vs. Price Ratio')\n",
    "plt.xlabel('Brand')\n",
    "plt.ylabel('Price Ratio')\n",
    "plt.show()"
   ]
  },
  {
   "cell_type": "code",
   "execution_count": 142,
   "id": "359ae316-27eb-49d4-9a59-0161a9f554a5",
   "metadata": {},
   "outputs": [
    {
     "data": {
      "image/png": "[encoded data removed]",
      "text/plain": [
       "<Figure size 720x576 with 1 Axes>"
      ]
     },
     "metadata": {
      "needs_background": "light"
     },
     "output_type": "display_data"
    }
   ],
   "source": [
    "lr = sm.OLS(y_train, sm.add_constant(X_train[['Shoe Size']])).fit()\n",
    "predicted = lr.predict(X_test)\n",
    "plt.figure(figsize=(10, 8))\n",
    "plt.scatter(X_test['Shoe Size'], y_test)\n",
    "\n",
    "sizes = np.linspace(3, 17.5, 1001)\n",
    "predicted = lr.predict(sm.add_constant(sizes))\n",
    "\n",
    "plt.plot(sizes, predicted, c='red')\n",
    "plt.title('Regression Line Showing Shoe Size vs. Price Ratio')\n",
    "plt.xlabel('Brand')\n",
    "plt.ylabel('Price Ratio')\n",
    "plt.show()"
   ]
  },
  {
   "cell_type": "markdown",
   "id": "50a0b66b-e636-4071-805e-29c75daef776",
   "metadata": {},
   "source": [
    "---\n",
    "---\n",
    "---"
   ]
  },
  {
   "cell_type": "code",
   "execution_count": 152,
   "id": "aeb71509-36fb-44bf-87bf-0bdb1a30cba9",
   "metadata": {},
   "outputs": [],
   "source": [
    "predicted = lr.predict(X_test)"
   ]
  },
  {
   "cell_type": "code",
   "execution_count": 153,
   "id": "589dc689-2235-417c-b4b9-771eb8fe48bf",
   "metadata": {},
   "outputs": [
    {
     "data": {
      "text/plain": [
       "1.4847887763928342"
      ]
     },
     "execution_count": 153,
     "metadata": {},
     "output_type": "execute_result"
    }
   ],
   "source": [
    "from sklearn.metrics import mean_squared_error\n",
    "mean_squared_error(predicted, y_test)"
   ]
  },
  {
   "cell_type": "code",
   "execution_count": 156,
   "id": "3547837c-3735-4036-81a5-a34927200884",
   "metadata": {},
   "outputs": [
    {
     "data": {
      "text/plain": [
       "<matplotlib.collections.PathCollection at 0x1d142a39e70>"
      ]
     },
     "execution_count": 156,
     "metadata": {},
     "output_type": "execute_result"
    },
    {
     "data": {
      "image/png": "[encoded data removed]",
      "text/plain": [
       "<Figure size 640x480 with 1 Axes>"
      ]
     },
     "metadata": {},
     "output_type": "display_data"
    }
   ],
   "source": [
    "plt.scatter(df['Elapsed Time Days'], df['Price Ratio'])"
   ]
  },
  {
   "cell_type": "markdown",
   "id": "9d16d22a-8004-4ab5-816c-c8e36d9ecb29",
   "metadata": {},
   "source": [
    "## **YEEZY ONLY**"
   ]
  },
  {
   "cell_type": "code",
   "execution_count": 184,
   "id": "720126b1-3c56-4ecd-b67b-bcaed325de31",
   "metadata": {
    "collapsed": true,
    "jupyter": {
     "outputs_hidden": true
    },
    "tags": []
   },
   "outputs": [
    {
     "name": "stdout",
     "output_type": "stream",
     "text": [
      "<class 'pandas.core.frame.DataFrame'>\n",
      "Int64Index: 72162 entries, 0 to 72161\n",
      "Data columns (total 21 columns):\n",
      " #   Column                             Non-Null Count  Dtype  \n",
      "---  ------                             --------------  -----  \n",
      " 0   const                              72162 non-null  float64\n",
      " 1   Brand                              72162 non-null  int32  \n",
      " 2   Sale Price                         72162 non-null  int64  \n",
      " 3   Retail Price                       72162 non-null  int64  \n",
      " 4   Shoe Size                          72162 non-null  float64\n",
      " 5   Profit Margin                      72162 non-null  int64  \n",
      " 6   Elapsed Time Days                  72162 non-null  int64  \n",
      " 7   Price Ratio                        72162 non-null  float64\n",
      " 8   Air-Jordan-1-Retro-High            72162 non-null  uint8  \n",
      " 9   Nike-Air-Force-1-Low               72162 non-null  uint8  \n",
      " 10  Nike-Air-Force-1-Low-Virgil-Abloh  72162 non-null  uint8  \n",
      " 11  Nike-Air-Max-90                    72162 non-null  uint8  \n",
      " 12  Nike-Air-Max-97                    72162 non-null  uint8  \n",
      " 13  Nike-Air-Presto                    72162 non-null  uint8  \n",
      " 14  Nike-Air-VaporMax                  72162 non-null  uint8  \n",
      " 15  Nike-Blazer-Mid                    72162 non-null  uint8  \n",
      " 16  Nike-React-Hyperdunk-2017-Flyknit  72162 non-null  uint8  \n",
      " 17  Nike-Zoom-Fly                      72162 non-null  uint8  \n",
      " 18  Nike-Zoom-Fly-Mercurial            72162 non-null  uint8  \n",
      " 19  V1                                 72162 non-null  uint8  \n",
      " 20  V2                                 72162 non-null  uint8  \n",
      "dtypes: float64(3), int32(1), int64(4), uint8(13)\n",
      "memory usage: 5.6 MB\n"
     ]
    }
   ],
   "source": [
    "filt = df['Brand'] == 0\n",
    "df_yzy = df[filt]\n",
    "df_yzy.info()"
   ]
  },
  {
   "cell_type": "code",
   "execution_count": 193,
   "id": "d435a571-f484-4d37-9c1b-0f9bd74a7350",
   "metadata": {},
   "outputs": [],
   "source": [
    "X = df_yzy[['Shoe Size']]\n",
    "#X = df_yzy.drop(['Price Ratio', 'const'], axis=1)\n",
    "y = df_yzy['Price Ratio']\n",
    "\n",
    "from sklearn.model_selection import train_test_split\n",
    "X_train, X_test, y_train, y_test = train_test_split(X, y, test_size=0.2, random_state=2)"
   ]
  },
  {
   "cell_type": "code",
   "execution_count": 194,
   "id": "62eb5998-fb30-43e3-a17e-f769f266678b",
   "metadata": {},
   "outputs": [
    {
     "data": {
      "text/html": [
       "<table class=\"simpletable\">\n",
       "<caption>OLS Regression Results</caption>\n",
       "<tr>\n",
       "  <th>Dep. Variable:</th>       <td>Price Ratio</td>   <th>  R-squared (uncentered):</th>      <td>   0.815</td> \n",
       "</tr>\n",
       "<tr>\n",
       "  <th>Model:</th>                   <td>OLS</td>       <th>  Adj. R-squared (uncentered):</th> <td>   0.815</td> \n",
       "</tr>\n",
       "<tr>\n",
       "  <th>Method:</th>             <td>Least Squares</td>  <th>  F-statistic:       </th>          <td>2.536e+05</td>\n",
       "</tr>\n",
       "<tr>\n",
       "  <th>Date:</th>             <td>Tue, 21 Mar 2023</td> <th>  Prob (F-statistic):</th>           <td>  0.00</td>  \n",
       "</tr>\n",
       "<tr>\n",
       "  <th>Time:</th>                 <td>18:30:12</td>     <th>  Log-Likelihood:    </th>          <td> -66257.</td> \n",
       "</tr>\n",
       "<tr>\n",
       "  <th>No. Observations:</th>      <td> 57729</td>      <th>  AIC:               </th>          <td>1.325e+05</td>\n",
       "</tr>\n",
       "<tr>\n",
       "  <th>Df Residuals:</th>          <td> 57728</td>      <th>  BIC:               </th>          <td>1.325e+05</td>\n",
       "</tr>\n",
       "<tr>\n",
       "  <th>Df Model:</th>              <td>     1</td>      <th>                     </th>              <td> </td>    \n",
       "</tr>\n",
       "<tr>\n",
       "  <th>Covariance Type:</th>      <td>nonrobust</td>    <th>                     </th>              <td> </td>    \n",
       "</tr>\n",
       "</table>\n",
       "<table class=\"simpletable\">\n",
       "<tr>\n",
       "      <td></td>         <th>coef</th>     <th>std err</th>      <th>t</th>      <th>P>|t|</th>  <th>[0.025</th>    <th>0.975]</th>  \n",
       "</tr>\n",
       "<tr>\n",
       "  <th>Shoe Size</th> <td>    0.1676</td> <td>    0.000</td> <td>  503.598</td> <td> 0.000</td> <td>    0.167</td> <td>    0.168</td>\n",
       "</tr>\n",
       "</table>\n",
       "<table class=\"simpletable\">\n",
       "<tr>\n",
       "  <th>Omnibus:</th>       <td>25148.028</td> <th>  Durbin-Watson:     </th>  <td>   1.965</td> \n",
       "</tr>\n",
       "<tr>\n",
       "  <th>Prob(Omnibus):</th>  <td> 0.000</td>   <th>  Jarque-Bera (JB):  </th> <td>203217.351</td>\n",
       "</tr>\n",
       "<tr>\n",
       "  <th>Skew:</th>           <td> 1.909</td>   <th>  Prob(JB):          </th>  <td>    0.00</td> \n",
       "</tr>\n",
       "<tr>\n",
       "  <th>Kurtosis:</th>       <td>11.361</td>   <th>  Cond. No.          </th>  <td>    1.00</td> \n",
       "</tr>\n",
       "</table><br/><br/>Notes:<br/>[1] R² is computed without centering (uncentered) since the model does not contain a constant.<br/>[2] Standard Errors assume that the covariance matrix of the errors is correctly specified."
      ],
      "text/plain": [
       "<class 'statsmodels.iolib.summary.Summary'>\n",
       "\"\"\"\n",
       "                                 OLS Regression Results                                \n",
       "=======================================================================================\n",
       "Dep. Variable:            Price Ratio   R-squared (uncentered):                   0.815\n",
       "Model:                            OLS   Adj. R-squared (uncentered):              0.815\n",
       "Method:                 Least Squares   F-statistic:                          2.536e+05\n",
       "Date:                Tue, 21 Mar 2023   Prob (F-statistic):                        0.00\n",
       "Time:                        18:30:12   Log-Likelihood:                         -66257.\n",
       "No. Observations:               57729   AIC:                                  1.325e+05\n",
       "Df Residuals:                   57728   BIC:                                  1.325e+05\n",
       "Df Model:                           1                                                  \n",
       "Covariance Type:            nonrobust                                                  \n",
       "==============================================================================\n",
       "                 coef    std err          t      P>|t|      [0.025      0.975]\n",
       "------------------------------------------------------------------------------\n",
       "Shoe Size      0.1676      0.000    503.598      0.000       0.167       0.168\n",
       "==============================================================================\n",
       "Omnibus:                    25148.028   Durbin-Watson:                   1.965\n",
       "Prob(Omnibus):                  0.000   Jarque-Bera (JB):           203217.351\n",
       "Skew:                           1.909   Prob(JB):                         0.00\n",
       "Kurtosis:                      11.361   Cond. No.                         1.00\n",
       "==============================================================================\n",
       "\n",
       "Notes:\n",
       "[1] R² is computed without centering (uncentered) since the model does not contain a constant.\n",
       "[2] Standard Errors assume that the covariance matrix of the errors is correctly specified.\n",
       "\"\"\""
      ]
     },
     "execution_count": 194,
     "metadata": {},
     "output_type": "execute_result"
    }
   ],
   "source": [
    "lr = sm.OLS(y_train, X_train).fit()\n",
    "lr.summary()"
   ]
  },
  {
   "cell_type": "markdown",
   "id": "679bbd10-6625-4b11-8c0d-d6f14395efaf",
   "metadata": {},
   "source": [
    "## NOTES\n",
    "- definitely looks like shoe size is the biggest influencer on price ratio"
   ]
  },
  {
   "cell_type": "markdown",
   "id": "a63ff994-bdd0-491e-9df4-dcb26d9030ab",
   "metadata": {},
   "source": [
    "## **Off-White Only**"
   ]
  },
  {
   "cell_type": "code",
   "execution_count": 195,
   "id": "1595ad07-efaa-4004-af8c-958b8b6c5835",
   "metadata": {},
   "outputs": [
    {
     "name": "stdout",
     "output_type": "stream",
     "text": [
      "<class 'pandas.core.frame.DataFrame'>\n",
      "Int64Index: 27794 entries, 72162 to 99955\n",
      "Data columns (total 21 columns):\n",
      " #   Column                             Non-Null Count  Dtype  \n",
      "---  ------                             --------------  -----  \n",
      " 0   const                              27794 non-null  float64\n",
      " 1   Brand                              27794 non-null  int32  \n",
      " 2   Sale Price                         27794 non-null  int64  \n",
      " 3   Retail Price                       27794 non-null  int64  \n",
      " 4   Shoe Size                          27794 non-null  float64\n",
      " 5   Profit Margin                      27794 non-null  int64  \n",
      " 6   Elapsed Time Days                  27794 non-null  int64  \n",
      " 7   Price Ratio                        27794 non-null  float64\n",
      " 8   Air-Jordan-1-Retro-High            27794 non-null  uint8  \n",
      " 9   Nike-Air-Force-1-Low               27794 non-null  uint8  \n",
      " 10  Nike-Air-Force-1-Low-Virgil-Abloh  27794 non-null  uint8  \n",
      " 11  Nike-Air-Max-90                    27794 non-null  uint8  \n",
      " 12  Nike-Air-Max-97                    27794 non-null  uint8  \n",
      " 13  Nike-Air-Presto                    27794 non-null  uint8  \n",
      " 14  Nike-Air-VaporMax                  27794 non-null  uint8  \n",
      " 15  Nike-Blazer-Mid                    27794 non-null  uint8  \n",
      " 16  Nike-React-Hyperdunk-2017-Flyknit  27794 non-null  uint8  \n",
      " 17  Nike-Zoom-Fly                      27794 non-null  uint8  \n",
      " 18  Nike-Zoom-Fly-Mercurial            27794 non-null  uint8  \n",
      " 19  V1                                 27794 non-null  uint8  \n",
      " 20  V2                                 27794 non-null  uint8  \n",
      "dtypes: float64(3), int32(1), int64(4), uint8(13)\n",
      "memory usage: 2.1 MB\n"
     ]
    }
   ],
   "source": [
    "filt = df['Brand'] == 1\n",
    "df_off = df[filt]\n",
    "df_off.info()"
   ]
  },
  {
   "cell_type": "code",
   "execution_count": 198,
   "id": "3f06990c-3d94-468e-b824-5bb01dce9c3d",
   "metadata": {},
   "outputs": [],
   "source": [
    "X = df_off[['Shoe Size', 'Elapsed Time Days']]\n",
    "#X = df_off.drop(['Price Ratio', 'const'], axis=1)\n",
    "y = df_off['Price Ratio']\n",
    "\n",
    "from sklearn.model_selection import train_test_split\n",
    "X_train, X_test, y_train, y_test = train_test_split(X, y, test_size=0.2, random_state=2)"
   ]
  },
  {
   "cell_type": "code",
   "execution_count": 199,
   "id": "6c0b4557-8848-45cb-95dd-bfc036dbd200",
   "metadata": {},
   "outputs": [
    {
     "data": {
      "text/html": [
       "<table class=\"simpletable\">\n",
       "<caption>OLS Regression Results</caption>\n",
       "<tr>\n",
       "  <th>Dep. Variable:</th>       <td>Price Ratio</td>   <th>  R-squared (uncentered):</th>      <td>   0.797</td> \n",
       "</tr>\n",
       "<tr>\n",
       "  <th>Model:</th>                   <td>OLS</td>       <th>  Adj. R-squared (uncentered):</th> <td>   0.797</td> \n",
       "</tr>\n",
       "<tr>\n",
       "  <th>Method:</th>             <td>Least Squares</td>  <th>  F-statistic:       </th>          <td>4.363e+04</td>\n",
       "</tr>\n",
       "<tr>\n",
       "  <th>Date:</th>             <td>Tue, 21 Mar 2023</td> <th>  Prob (F-statistic):</th>           <td>  0.00</td>  \n",
       "</tr>\n",
       "<tr>\n",
       "  <th>Time:</th>                 <td>18:32:49</td>     <th>  Log-Likelihood:    </th>          <td> -46055.</td> \n",
       "</tr>\n",
       "<tr>\n",
       "  <th>No. Observations:</th>      <td> 22235</td>      <th>  AIC:               </th>          <td>9.211e+04</td>\n",
       "</tr>\n",
       "<tr>\n",
       "  <th>Df Residuals:</th>          <td> 22233</td>      <th>  BIC:               </th>          <td>9.213e+04</td>\n",
       "</tr>\n",
       "<tr>\n",
       "  <th>Df Model:</th>              <td>     2</td>      <th>                     </th>              <td> </td>    \n",
       "</tr>\n",
       "<tr>\n",
       "  <th>Covariance Type:</th>      <td>nonrobust</td>    <th>                     </th>              <td> </td>    \n",
       "</tr>\n",
       "</table>\n",
       "<table class=\"simpletable\">\n",
       "<tr>\n",
       "          <td></td>             <th>coef</th>     <th>std err</th>      <th>t</th>      <th>P>|t|</th>  <th>[0.025</th>    <th>0.975]</th>  \n",
       "</tr>\n",
       "<tr>\n",
       "  <th>Shoe Size</th>         <td>    0.3343</td> <td>    0.002</td> <td>  211.619</td> <td> 0.000</td> <td>    0.331</td> <td>    0.337</td>\n",
       "</tr>\n",
       "<tr>\n",
       "  <th>Elapsed Time Days</th> <td>    0.0077</td> <td>    0.000</td> <td>   51.607</td> <td> 0.000</td> <td>    0.007</td> <td>    0.008</td>\n",
       "</tr>\n",
       "</table>\n",
       "<table class=\"simpletable\">\n",
       "<tr>\n",
       "  <th>Omnibus:</th>       <td>4018.398</td> <th>  Durbin-Watson:     </th> <td>   1.977</td> \n",
       "</tr>\n",
       "<tr>\n",
       "  <th>Prob(Omnibus):</th>  <td> 0.000</td>  <th>  Jarque-Bera (JB):  </th> <td>10064.542</td>\n",
       "</tr>\n",
       "<tr>\n",
       "  <th>Skew:</th>           <td> 1.004</td>  <th>  Prob(JB):          </th> <td>    0.00</td> \n",
       "</tr>\n",
       "<tr>\n",
       "  <th>Kurtosis:</th>       <td> 5.614</td>  <th>  Cond. No.          </th> <td>    12.8</td> \n",
       "</tr>\n",
       "</table><br/><br/>Notes:<br/>[1] R² is computed without centering (uncentered) since the model does not contain a constant.<br/>[2] Standard Errors assume that the covariance matrix of the errors is correctly specified."
      ],
      "text/plain": [
       "<class 'statsmodels.iolib.summary.Summary'>\n",
       "\"\"\"\n",
       "                                 OLS Regression Results                                \n",
       "=======================================================================================\n",
       "Dep. Variable:            Price Ratio   R-squared (uncentered):                   0.797\n",
       "Model:                            OLS   Adj. R-squared (uncentered):              0.797\n",
       "Method:                 Least Squares   F-statistic:                          4.363e+04\n",
       "Date:                Tue, 21 Mar 2023   Prob (F-statistic):                        0.00\n",
       "Time:                        18:32:49   Log-Likelihood:                         -46055.\n",
       "No. Observations:               22235   AIC:                                  9.211e+04\n",
       "Df Residuals:                   22233   BIC:                                  9.213e+04\n",
       "Df Model:                           2                                                  \n",
       "Covariance Type:            nonrobust                                                  \n",
       "=====================================================================================\n",
       "                        coef    std err          t      P>|t|      [0.025      0.975]\n",
       "-------------------------------------------------------------------------------------\n",
       "Shoe Size             0.3343      0.002    211.619      0.000       0.331       0.337\n",
       "Elapsed Time Days     0.0077      0.000     51.607      0.000       0.007       0.008\n",
       "==============================================================================\n",
       "Omnibus:                     4018.398   Durbin-Watson:                   1.977\n",
       "Prob(Omnibus):                  0.000   Jarque-Bera (JB):            10064.542\n",
       "Skew:                           1.004   Prob(JB):                         0.00\n",
       "Kurtosis:                       5.614   Cond. No.                         12.8\n",
       "==============================================================================\n",
       "\n",
       "Notes:\n",
       "[1] R² is computed without centering (uncentered) since the model does not contain a constant.\n",
       "[2] Standard Errors assume that the covariance matrix of the errors is correctly specified.\n",
       "\"\"\""
      ]
     },
     "execution_count": 199,
     "metadata": {},
     "output_type": "execute_result"
    }
   ],
   "source": [
    "lr = sm.OLS(y_train, X_train).fit()\n",
    "lr.summary()"
   ]
  },
  {
   "cell_type": "code",
   "execution_count": null,
   "id": "5a3cfbea-3342-4803-b312-bc600c7d5453",
   "metadata": {},
   "outputs": [],
   "source": []
  },
  {
   "cell_type": "code",
   "execution_count": null,
   "id": "6423f6cf-66cf-44a1-b775-d7041e844ee3",
   "metadata": {},
   "outputs": [],
   "source": []
  },
  {
   "cell_type": "code",
   "execution_count": null,
   "id": "5fc55aa3-9695-4baf-b757-a9e5042d5cdf",
   "metadata": {},
   "outputs": [],
   "source": []
  },
  {
   "cell_type": "code",
   "execution_count": null,
   "id": "3ac831b8-379f-45b9-bff4-e836741abca9",
   "metadata": {},
   "outputs": [],
   "source": []
  },
  {
   "cell_type": "code",
   "execution_count": null,
   "id": "15ea067d-93dc-414e-ac4b-c2555c15f17e",
   "metadata": {},
   "outputs": [],
   "source": []
  },
  {
   "cell_type": "markdown",
   "id": "532f345e-1f44-4930-ab5b-d30d22bb9a03",
   "metadata": {},
   "source": [
    "### **KAILI'S NOTES & QUESTIONS**"
   ]
  },
  {
   "cell_type": "markdown",
   "id": "8b1a67d9-522e-4d08-9218-7eaf612bac90",
   "metadata": {},
   "source": [
    "- do I want to generzlize this beyond Yeezy and Off-White? Or do I want to keep to just these two designer brands? I will need to keep or delete the Silhouette, and perhaps the colorway...?\n",
    "- decided to keep the silhouette to build the model\n",
    "- dropped the colorway column, at least for now. not sure how to treat it. See notes above.\n",
    "- the model ran, but not quite sure how to interpret the results.\n",
    "- what is the equation of the regression line?\n",
    "- how to do a scatterplot with the OLS regression line?\n",
    "- what do I do next in order to answer my question"
   ]
  },
  {
   "cell_type": "code",
   "execution_count": null,
   "id": "2af2c767-1a8f-45c4-8d93-a18e6d239349",
   "metadata": {},
   "outputs": [],
   "source": []
  }
 ],
 "metadata": {
  "kernelspec": {
   "display_name": "Python 3 (ipykernel)",
   "language": "python",
   "name": "python3"
  },
  "language_info": {
   "codemirror_mode": {
    "name": "ipython",
    "version": 3
   },
   "file_extension": ".py",
   "mimetype": "text/x-python",
   "name": "python",
   "nbconvert_exporter": "python",
   "pygments_lexer": "ipython3",
   "version": "3.10.8"
  }
 },
 "nbformat": 4,
 "nbformat_minor": 5
}
